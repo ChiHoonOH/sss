{
 "cells": [
  {
   "cell_type": "markdown",
   "metadata": {},
   "source": [
    "### 정규 표현식(Regular Expressions)\n",
    "\n",
    "- 목적 : 데이터 전처리 과정에서 데이터를 정제, 일반 전처리\n",
    "         복잡한 문자열을 처리할때 사용\n",
    "- 메타 문자\n",
    "- 이스케이핑 처리\n",
    "- 그룹핑\n",
    "- 함수처리(compile( 생성) -> match, search, findall, findter, sub)\n",
    "- 응용\n",
    "> 한글제거, 한자제거, 숫자제거, 알파벳제거, 공백제거 등등..\n",
    "- 전방탐색(긍정, 부정)"
   ]
  },
  {
   "cell_type": "markdown",
   "metadata": {},
   "source": [
    "### 메타문자\n",
    "\n",
    "\n",
    "|메타문자| 내용 |\n",
    "|:----:|:----:|\n",
    "|  .  |   모든문자, 단 \\n 빼고   |\n",
    "|  ^  |   ^메타문자는 문자열의 시작(맨처음)과 일치함을 의미<br> [^]인 사용되는 경우 문자 클래스안에 ^는 반대 의미<br>, re.MULTILINE 각 줄의(여러줄문자열일때) 처음과 일치  |\n",
    "|  \\$ |  문자열의 맨 끝과 일치   |\n",
    "|  *  |   앞에 표현을 반복 0~무한대   |\n",
    "|  +  |   앞에 표현을 반복 1~무한대   |\n",
    "|  ?  |  {0,1} 의미   |\n",
    "|  {} |   반복, {m,n} m번부터 n 번까지 반복회수 제한 -> 특정횟수만큼 반복해라   |\n",
    "|  ()  |  그룹핑 (grouping)   |\n",
    "|  []  |  문자 클래스,   |\n",
    "|  파이프  |     |"
   ]
  },
  {
   "cell_type": "code",
   "execution_count": 1,
   "metadata": {},
   "outputs": [
    {
     "data": {
      "text/plain": [
       "'\\n- re.compile을 통해서 패턴을 정의하고 이어서 함수를 사용하는 방법\\n- re.함수를 통해서 바로 처리하는 방식(1번인자가 정규식)\\n- 함수\\n- match() : 문자열의 처음부터 정규식에 매치되는 조사\\n- search() : 문자열이 전체부터 정규식에 매치되는지 조사\\n'"
      ]
     },
     "execution_count": 1,
     "metadata": {},
     "output_type": "execute_result"
    }
   ],
   "source": [
    "# 정규식 사용시 사용하는 라이브러리\n",
    "import re\n",
    "\n",
    "# 사용법\n",
    "'''\n",
    "- re.compile을 통해서 패턴을 정의하고 이어서 함수를 사용하는 방법\n",
    "- re.함수를 통해서 바로 처리하는 방식(1번인자가 정규식)\n",
    "- 함수\n",
    "- match() : 문자열의 처음부터 정규식에 매치되는 조사\n",
    "- search() : 문자열이 전체부터 정규식에 매치되는지 조사\n",
    "'''"
   ]
  },
  {
   "cell_type": "code",
   "execution_count": 2,
   "metadata": {},
   "outputs": [
    {
     "name": "stdout",
     "output_type": "stream",
     "text": [
      "1 일치\n",
      "2 일치\n",
      "3 일치\n",
      "4 일치\n",
      "5 일치\n",
      "****************************************************************************************************\n",
      "8 일치\n"
     ]
    }
   ],
   "source": [
    "# Dot(.)\n",
    "# 모든 문자를 한개 대변한다. 단 \\n 만 빼고\n",
    "if re.match('[a.b]', 'a'): print('1 일치')\n",
    "if re.match('[a.b]', 'ab'): print('2 일치')\n",
    "if re.match('[a.b]', 'a1b'): print('3 일치')    \n",
    "if re.match('[a.b]', 'abc'): print('4 일치')\n",
    "if re.match('[a.b]', 'bca'): print('5 일치')    \n",
    "if re.match('[a.b]', 'cab'): print('6 일치')  #[안에 있는 문자가] match()에 있기만 하면 일치 a b 둘중 하나가 먼저오면 되지만 c는 안됨\n",
    "                                              # . 은 . 이다\n",
    "print('*'*100)\n",
    "if re.match('a.b', 'abc'): print('7 일치')        # 세번째에 b가 없어서 실행 x\n",
    "if re.match('a.b', 'a1b'): print('8 일치')        # 세번째에 b가 있어야한다."
   ]
  },
  {
   "cell_type": "code",
   "execution_count": 3,
   "metadata": {},
   "outputs": [
    {
     "name": "stdout",
     "output_type": "stream",
     "text": [
      "['애슐리 하면']\n",
      "['애슐리 하면', '애슐리 점이']\n",
      "2 일치한다\n"
     ]
    }
   ],
   "source": [
    "# ^\n",
    "# ^ 메타문자는 문자열의 시작(맨처음)과 일치함을 의미\n",
    "# \\s : 한칸띠고 whitespace\n",
    "# \\w : 단어(word)\n",
    "# + : 반복 (1~)\n",
    "# 해석 : 시작문자는 반드시 애슐리로 시작하고 한칸띠고 단어가 나오면 된다\n",
    "p = re.compile('^애슐리\\s\\w+')\n",
    "data = '''애슐리 하면 부산대역점\n",
    "이라고 생각하겠지만, 서면역에 있는 \n",
    "애슐리 점이 더 맛있다.\n",
    "'''\n",
    "print( p.findall(data) )\n",
    "# 전체가 아닌 시작점만 찾기 때문에 아래에 있는 애슐리 점 이라는 단어가 출력이 안됨\n",
    "\n",
    "\n",
    "\n",
    "# re.MULTILINE 각 줄의(여러줄문자일때) 처음과 일치.\n",
    "p = re.compile('^애슐리\\s\\w+', re.MULTILINE)\n",
    "data = '''애슐리 하면 부산대역점\n",
    "이라고 생각하겠지만, 서면역에 있는 \n",
    "애슐리 점이 더 맛있다.\n",
    "'''\n",
    "print( p.findall(data) )\n",
    "# 조건과 일치하면 출력한다. 단 조건이 일치해야한다. (공백)애슐리 점 하게 되면 출력되지 않는다.\n",
    "\n",
    "\n",
    "\n",
    "\n",
    "# [^]인 사용되는 경우 문자 클래스안에 ^는 반대 의미 -> XOR\n",
    "# 숫자가 오는것을 부정했기 때문에 숫자가 오면 미일치\n",
    "if re.match('[^0-9]', '1'):print('1 일치한다') # 숫자 빼고 와야한다\n",
    "if re.match('[^0-9]', 'a'):print('2 일치한다') # 숫자가 아니라서 출력     "
   ]
  },
  {
   "cell_type": "code",
   "execution_count": 4,
   "metadata": {},
   "outputs": [
    {
     "name": "stdout",
     "output_type": "stream",
     "text": [
      "2 일치한다\n"
     ]
    }
   ],
   "source": [
    "# $ \n",
    "# 반드시 그렇게 끝나야 한다 -> 일치되는가 아닌가?\n",
    "if re.match('^[0-9]+[a-z]+$', '11111111'):print('1 일치한다') # 끝에 영어 소문자가 오질 않는다\n",
    "if re.match('^[0-9]+[a-z]+$', '1111111a'):print('2 일치한다') # 일치하여 출력\n",
    "if re.match('^[0-9]+[a-z]+$', '1111111A'):print('3 일치한다') # 끝에 영어 대문자가 오질 않는다 "
   ]
  },
  {
   "cell_type": "code",
   "execution_count": 5,
   "metadata": {},
   "outputs": [
    {
     "name": "stdout",
     "output_type": "stream",
     "text": [
      "2. 일치한다\n",
      "4. 일치한다\n",
      "****************************************************************************************************\n",
      "5-1. 일치한다\n",
      "6. 일치한다\n",
      "****************************************************************************************************\n",
      "8. 일치한다\n",
      "9. 일치한다\n"
     ]
    }
   ],
   "source": [
    "# 반복, {m,n} m번부터 n 번까지 반복회수 제한 -> 특정횟수만큼 반복해라  \n",
    "# ? {0,1}\n",
    "# s{2} =>  무조건 s 가 두번 반복해야 한다\n",
    "if re.match('bus{2}an', 'buan'): print('1. 일치한다') # s가 두번반복해야 하는데 만족하지 못함. s가 없다.\n",
    "if re.match('[bus{2}an]', 'buan'): print('2. 일치한다')    # 대괄호 때문에 식이 바뀜\n",
    "if re.match('bus{2}an', 'busan'): print('3. 일치한다') # s가 두번해야한다.        \n",
    "if re.match('bus{2}an', 'bussan'): print('4. 일치한다')\n",
    "if re.match('bus{2}an', 'busssan'): print('5. 일치한다')    # s가 3번 나옴\n",
    "print('*'*100)\n",
    "if re.match('bus{2,3}an', 'bussan'): print('5-1. 일치한다') # s 가 2번 정답\n",
    "if re.match('bus{2,3}an', 'busssan'): print('6. 일치한다') # s가 2~3 번 나옴\n",
    "if re.match('bus{2,3}an', 'bussssan'): print('7. 일치한다')    \n",
    "print('*'*100)\n",
    "if re.match('bus?an', 'buan'): print('8. 일치한다')    # ? 는 나오던지 안나오던지 안나왔기에 출력\n",
    "if re.match('bus?an', 'busan'): print('9. 일치한다')    # ? 한번 나오니 출력\n",
    "if re.match('bus?an', 'bussan'): print('10. 일치한다')    # ?  두번 나왔으니 미출력"
   ]
  },
  {
   "cell_type": "code",
   "execution_count": 6,
   "metadata": {},
   "outputs": [
    {
     "name": "stdout",
     "output_type": "stream",
     "text": [
      "1. 일치한다\n",
      "3. 일치한다\n",
      "4. 일치한다\n"
     ]
    }
   ],
   "source": [
    "# [] : 문자 클래스\n",
    "# [ 어떤 문자도 올수 있다 ]\n",
    "# [ 사이에 있는 단어가 ] match (시작단어), search(전체)에 하나만 있어도 일치\n",
    "# . : 모든 문자 => [ . ] => .\n",
    "if re.match('[abc]', 'a'): print('1. 일치한다')\n",
    "if re.match('[abc]', 'edf'): print('2. 일치한다')    # e 로 시작해서는 안된다 abc 중에 와야한다\n",
    "if re.match('[abc]', 'abd'): print('3. 일치한다')\n",
    "if re.match('[abc]', 'b12'): print('4. 일치한다')        "
   ]
  },
  {
   "cell_type": "code",
   "execution_count": 7,
   "metadata": {},
   "outputs": [
    {
     "name": "stdout",
     "output_type": "stream",
     "text": [
      "1. 일치한다\n",
      "2. 일치한다\n",
      "3. 일치한다\n",
      "5. 일치한다\n"
     ]
    }
   ],
   "source": [
    "# | => or\n",
    "if re.match('a|b|c', 'a'):print('1. 일치한다')\n",
    "if re.match('a|b|c', 'b'):print('2. 일치한다')    \n",
    "if re.match('a|b|c', 'c'):print('3. 일치한다')    \n",
    "if re.match('a|b|c', 'd'):print('4. 일치한다')\n",
    "# 아래 표현과 동일하다\n",
    "if re.match('[abc]', 'a'):print('5. 일치한다')        \n",
    "\n",
    "# a b c 중에 선택"
   ]
  },
  {
   "cell_type": "markdown",
   "metadata": {},
   "source": [
    "### 이스케이핑 => \\ ...\n",
    "\n",
    "- \\d vs \\D : 숫자\n",
    "- \\s vs \\S : whitespace (공백, \\t \\n \\r \\f \\v ......)\n",
    "- \\w vs \\W : 문자, 숫자 a-z A-Z 0-9\n",
    "- \\A : ^시작임을 체크 => 컴파일 옵션(멀티라인 무시) 무조건 맨처음\n",
    "- \\Z : $ 마지막임을 체크 => 무조건 맨 마지막\n",
    "- \\b bs \\B"
   ]
  },
  {
   "cell_type": "code",
   "execution_count": 8,
   "metadata": {},
   "outputs": [
    {
     "name": "stdout",
     "output_type": "stream",
     "text": [
      "1 일치한다\n",
      "2 일치한다\n",
      "****************************************************************************************************\n",
      "7 일치한다\n",
      "8 일치한다\n",
      "****************************************************************************************************\n",
      "9 일치한다\n"
     ]
    }
   ],
   "source": [
    "# \\d : 숫자 = [0-9]\n",
    "# \\D : 숫자아니다 = [^0-9]\n",
    "if re.match('[\\d]','1'):print('1 일치한다')\n",
    "if re.match('\\d','1'):print('2 일치한다')    \n",
    "if re.match('[\\d]','a'):print('3 일치한다') \n",
    "if re.match('\\d','a'):print('4 일치한다')    \n",
    "print('*'*100)\n",
    "if re.match('[\\D]','1'):print('5 일치한다')\n",
    "if re.match('\\D','1'):print('6 일치한다')    \n",
    "if re.match('[\\D]','a'):print('7 일치한다') \n",
    "if re.match('\\D','a'):print('8 일치한다')    \n",
    "print('*'*100)\n",
    "if re.match('\\D','가'):print('9 일치한다')   # 숫자만 아니면 된다."
   ]
  },
  {
   "cell_type": "code",
   "execution_count": 9,
   "metadata": {},
   "outputs": [
    {
     "name": "stdout",
     "output_type": "stream",
     "text": [
      "1 일치한다\n",
      "****************************************************************************************************\n",
      "6 일치한다\n"
     ]
    }
   ],
   "source": [
    "# \\s : whitedpace (공백, \\t \\n \\r \\f \\v ......) [ \\t\\n\\r\\f\\v]\n",
    "# \\s : [^ \\t\\n\\r\\f\\v] 문장내에 공백을 싹다 삭제\n",
    "if re.match('[\\s]','\\t\\n\\r\\f\\v'):print('1 일치한다')\n",
    "print('*'*100)\n",
    "if re.match('[\\S]',' \\t\\n\\r\\f\\v'):print('5 일치한다')\n",
    "if re.match('[\\S]','s \\t\\n\\r\\f\\v'):print('6 일치한다')    "
   ]
  },
  {
   "cell_type": "code",
   "execution_count": 10,
   "metadata": {},
   "outputs": [
    {
     "name": "stdout",
     "output_type": "stream",
     "text": [
      "1 일치한다\n"
     ]
    }
   ],
   "source": [
    "# \\w : [a-zA-Z0-9]\n",
    "# \\W : [^a-zA-Z0-9]\n",
    "if re.match('[\\w]','a0'):print('1 일치한다')  \n",
    "if re.match('[\\W]','a0'):print('2 일치한다')      \n",
    "if re.match('[\\W]','가'):print('3 일치한다')      \n",
    "# 체크 : 한글도 걸러지고 있다.\n",
    "if re.match('\\W','가'):print('4 일치한다')      "
   ]
  },
  {
   "cell_type": "markdown",
   "metadata": {},
   "source": [
    "### 그룹핑\n",
    "\n",
    "- group()으로 처리"
   ]
  },
  {
   "cell_type": "code",
   "execution_count": 11,
   "metadata": {},
   "outputs": [
    {
     "name": "stdout",
     "output_type": "stream",
     "text": [
      "<_sre.SRE_Match object; span=(0, 9), match='123123123'> 123123123 123\n"
     ]
    }
   ],
   "source": [
    "# 3이 반복, 1, 2는 1회만\n",
    "p = re.compile('123+')\n",
    "# 나는 1,2,3 이 세트를 반복하고 싶다\n",
    "p = re.compile('(123)+')\n",
    "m = p.search('123123123132 GoodJob?')\n",
    "print( m, m.group(),m.group(1))"
   ]
  },
  {
   "cell_type": "markdown",
   "metadata": {},
   "source": [
    "|group(수치)| 설명 |\n",
    "|:-:|:-:|\n",
    "|group(0)| 매치된 전체 문자열 |\n",
    "|group(1)| 첫번째 그룹 |\n",
    "|group(2)| 두번째 그룹 |\n",
    "|group(n)| n번째 그룹 |"
   ]
  },
  {
   "cell_type": "code",
   "execution_count": 12,
   "metadata": {},
   "outputs": [
    {
     "data": {
      "text/plain": [
       "<_sre.SRE_Match object; span=(0, 17), match='kim 010-2222-9090'>"
      ]
     },
     "execution_count": 12,
     "metadata": {},
     "output_type": "execute_result"
    }
   ],
   "source": [
    "'''\n",
    "실습\n",
    "kim 010-2222-9090 => 정규식\n",
    "|kim|  |010|-|2222|-|9090|\n",
    " \\w  \\s \\d+[-]\\d+[-]\\d+\n",
    "\\w+\\s+\\d+[-]\\d+[-]\\d+    \n",
    "\n",
    "'''\n",
    "\n",
    "re.match('\\w+\\s+\\d+[-]\\d+[-]\\d+','kim 010-2222-9090')"
   ]
  },
  {
   "cell_type": "code",
   "execution_count": 13,
   "metadata": {},
   "outputs": [
    {
     "data": {
      "text/plain": [
       "<_sre.SRE_Match object; span=(0, 17), match='kim 010-2222-9090'>"
      ]
     },
     "execution_count": 13,
     "metadata": {},
     "output_type": "execute_result"
    }
   ],
   "source": [
    "'''\n",
    "kim 010-2222-9090\n",
    "|kim| |010|-|2222|-|9090|\n",
    "\\w\\s\\d+[-]\\d+[-]\\d+\n",
    "'''\n",
    "re.match('\\w+\\s\\d+[-]\\d+[-]\\d+','kim 010-2222-9090')"
   ]
  },
  {
   "cell_type": "code",
   "execution_count": 14,
   "metadata": {},
   "outputs": [
    {
     "data": {
      "text/plain": [
       "<_sre.SRE_Match object; span=(0, 20), match='wjdrbaus12@naver.com'>"
      ]
     },
     "execution_count": 14,
     "metadata": {},
     "output_type": "execute_result"
    }
   ],
   "source": [
    "'''\n",
    "wjdrbaus12@naver.com\n",
    "|wjdrbaus12|@|naver|.com|\n",
    "\\w+[@]+[a-z]+[.]+[com]+\n",
    "\n",
    "'''\n",
    "re.match('\\w+[@]+[a-z]+[.]+[com|co.kr]+','wjdrbaus12@naver.com')"
   ]
  },
  {
   "cell_type": "code",
   "execution_count": 15,
   "metadata": {},
   "outputs": [
    {
     "name": "stdout",
     "output_type": "stream",
     "text": [
      "None\n"
     ]
    }
   ],
   "source": [
    "'''\n",
    "\n",
    "920220-1\n",
    "920220-1******\n",
    "|920220|-|1|******|\n",
    "\n",
    "\\[0-9]{6}+[-]+[0-9]{1}+[******]\n",
    "\n",
    "'''\n",
    "print( re.match('^[0-9{6}][-][1-4][******]$','920220-1') )"
   ]
  },
  {
   "cell_type": "code",
   "execution_count": 16,
   "metadata": {},
   "outputs": [
    {
     "name": "stdout",
     "output_type": "stream",
     "text": [
      "busan 010-2222-9999 \n",
      " ('busan', '010-2222-9999') \n",
      " busan 010-2222-9999\n",
      "busan \n",
      " 010-2222-9999\n"
     ]
    }
   ],
   "source": [
    "# 위 내용을 보면 m.group() 등을 이용해서 매쵠 것을 획득했으나 데이터를 나누기 위해선느 또 문자열에서 처리해야 한다.\n",
    "# 알아서 구분이 되었으면 좋겠다. -> 그룹핑\n",
    "'''\n",
    "kim 010-2222-9090 => 정규식\n",
    "|kim|  |010|-|2222|-|9090|\n",
    " \\w  \\s \\d+[-]\\d+[-]\\d+\n",
    "\\w+\\s+\\d+[-]\\d+[-]\\d+    \n",
    "\n",
    "'''\n",
    "p = re.compile(r'^(\\w+)\\s+(\\d{3}[-]\\d{3,4}[-]\\d{4})$')\n",
    "m = p.search('busan 010-2222-9999')\n",
    "print(m.group(),'\\n',m.groups(),'\\n',m.group(0))\n",
    "print(m.group(1),'\\n',m.group(2))"
   ]
  },
  {
   "cell_type": "code",
   "execution_count": 17,
   "metadata": {},
   "outputs": [
    {
     "name": "stdout",
     "output_type": "stream",
     "text": [
      "busan 010-2222-9999 \n",
      " ('busan', '010-2222-9999', '010') \n",
      " busan 010-2222-9999\n",
      "010\n"
     ]
    }
   ],
   "source": [
    "# 전화번호 국번호를 따로 획득하고 싶다.\n",
    "p = re.compile(r'^(\\w+)\\s+((\\d{3})[-]\\d{3,4}[-]\\d{4})$')\n",
    "m = p.search('busan 010-2222-9999')\n",
    "print(m.group(),'\\n',m.groups(),'\\n',m.group(0))\n",
    "print(m.group(3))"
   ]
  },
  {
   "cell_type": "code",
   "execution_count": 18,
   "metadata": {},
   "outputs": [
    {
     "data": {
      "text/plain": [
       "'numpy numpy'"
      ]
     },
     "execution_count": 18,
     "metadata": {},
     "output_type": "execute_result"
    }
   ],
   "source": [
    "# 그룹을(재사용, 재참조) \\1, \\2, ...\n",
    "# \\1 : 첫번째 그룹을 지칭, 재참조가 됨\n",
    "p = re.compile(r'(\\b\\w+)\\s+\\1')\n",
    "# p = re.compile(r'(\\b\\w+)\\s+(\\b\\w+)')\n",
    "p.search('pandas numpy numpy scikit').group()"
   ]
  },
  {
   "cell_type": "code",
   "execution_count": 19,
   "metadata": {},
   "outputs": [
    {
     "name": "stdout",
     "output_type": "stream",
     "text": [
      "userName-> busan\n"
     ]
    }
   ],
   "source": [
    "# 그룹에 이름 붙이기\n",
    "# (?P<그룹명>...)\n",
    "p = re.compile(r'^(?P<userName>\\w+)\\s+((\\d{3})[-]\\d{3,4}[-]\\d{4})$')\n",
    "m = p.search('busan 010-2222-9999')\n",
    "print('userName->', m.group('userName'))"
   ]
  },
  {
   "cell_type": "markdown",
   "metadata": {},
   "source": [
    "### 정규식을 이용한 문자열 검색 함수들\n",
    "\n",
    "** 1. 정규식 생성 **\n",
    "\n",
    "- p = re.complie('정규식')\n",
    "- p.함수('문자열')\n",
    "\n",
    "\n",
    "** 2. 함수를 통해 처리 **\n",
    "\n",
    "- re.함수('정규식',' 문자열)\n",
    "- 혹은\n",
    "- p.함수('문자열')\n",
    "\n",
    "| 함수 | 목적 |\n",
    "|:--:|:--:|\n",
    "|match()| 문자열의 처음부터 정규식과 매치되는지 조사 |\n",
    "|search()| 문자열의 전체를 조사하여 정규식과 매치되는지 조사 |\n",
    "|findall()| 정규식과 매치되는 모든 문자열(substring)을 list로 반환 |\n",
    "|finditer()| 정규식과 매치되는 모든 문자열(substring)을 iteraor 반환 |\n",
    "|sub()| 규칙과 매치되는 부분을 다른 문자여롤 바꾸거나, 제거 가능 |\n",
    "\n"
   ]
  },
  {
   "cell_type": "code",
   "execution_count": 20,
   "metadata": {},
   "outputs": [
    {
     "name": "stdout",
     "output_type": "stream",
     "text": [
      "None\n",
      "1\n",
      "1\n"
     ]
    }
   ],
   "source": [
    "# match()\n",
    "p = re.compile('[0-9]+')\n",
    "r = p.match('abc2')\n",
    "print(r)\n",
    "r = p.match('1abds')\n",
    "print(r.group())\n",
    "# 주로 어떻게 사용\n",
    "if p.match('1abcd'):\n",
    "    print(r.group())\n",
    "else:\n",
    "    print('일치되는 문자열이 없습니다.')"
   ]
  },
  {
   "cell_type": "code",
   "execution_count": 21,
   "metadata": {},
   "outputs": [
    {
     "name": "stdout",
     "output_type": "stream",
     "text": [
      "2\n",
      "1\n",
      "1\n"
     ]
    }
   ],
   "source": [
    "# search()\n",
    "# 정규식이 동일할 경우\n",
    "# match()로 참인 경우는 다 serch()에서 다 참이다.\n",
    "p = re.compile('[0-9]+')\n",
    "r = p.search('abc2')\n",
    "print(r.group())\n",
    "r = p.match('1abds')\n",
    "print(r.group())\n",
    "# 주로 어떻게 사용\n",
    "if p.match('1abcd'):\n",
    "    print(r.group())\n",
    "else:\n",
    "    print('일치되는 문자열이 없습니다.')"
   ]
  },
  {
   "cell_type": "code",
   "execution_count": 22,
   "metadata": {},
   "outputs": [
    {
     "name": "stdout",
     "output_type": "stream",
     "text": [
      "i <class 'str'>\n",
      "am <class 'str'>\n",
      "a <class 'str'>\n",
      "ood <class 'str'>\n",
      "oy <class 'str'>\n"
     ]
    }
   ],
   "source": [
    "# findall()\n",
    "p = re.compile('[a-z]+')\n",
    "r = p.findall(' i am a Good Boy. 2018 10 굿 !@#')\n",
    "for w in r:\n",
    "    print(w,type(w))"
   ]
  },
  {
   "cell_type": "code",
   "execution_count": 23,
   "metadata": {},
   "outputs": [
    {
     "name": "stdout",
     "output_type": "stream",
     "text": [
      "<class '_sre.SRE_Match'> i 1 2 (1, 2)\n",
      "<class '_sre.SRE_Match'> am 3 5 (3, 5)\n",
      "<class '_sre.SRE_Match'> a 6 7 (6, 7)\n",
      "<class '_sre.SRE_Match'> ood 9 12 (9, 12)\n",
      "<class '_sre.SRE_Match'> oy 14 16 (14, 16)\n"
     ]
    }
   ],
   "source": [
    "# finditer()\n",
    "p = re.compile('[a-z]+')\n",
    "r = p.finditer(' i am a Good Boy. 2018 10 굿 !@#')\n",
    "for w in r:\n",
    "    print(type(w), w.group(), w.start(), w.end(), w.span())"
   ]
  },
  {
   "cell_type": "code",
   "execution_count": 24,
   "metadata": {},
   "outputs": [
    {
     "name": "stdout",
     "output_type": "stream",
     "text": [
      "칼라 is a hat and 칼라 hand\n",
      " is a hat and  hand\n",
      "^^ is a hat and ^^ hand\n"
     ]
    }
   ],
   "source": [
    "# sub()\n",
    "# 규칙과 매치되는 부분을 다른 문자로 바꿀수 있다.\n",
    "p = re.compile('(blue|white|red)')\n",
    "print(p.sub('칼라','blue is a hat and white hand'))\n",
    "# 문자열에서 해당 단어를 제거하고 싶다.\n",
    "print(p.sub('','blue is a hat and white hand'))\n",
    "print(p.sub('^^','blue is a hat and white hand'))"
   ]
  },
  {
   "cell_type": "markdown",
   "metadata": {},
   "source": [
    "### sub 응용\n",
    "- 한글 제거\n",
    "> ㄱ~ㅎ  : 자음 0x3131 ~ 0x314e\n",
    "> ㅏ~ㅣ  : 모음 0x314f ~ 0x3163\n",
    "> 가~힣  : 완성문자(유니코드(2byte), euc-kr) 0xac00 ~ 0xd7a3\n",
    "vs 완성형코드(1byte), utf-8)\n",
    "- 영문 제거\n",
    "> "
   ]
  },
  {
   "cell_type": "code",
   "execution_count": 25,
   "metadata": {},
   "outputs": [
    {
     "name": "stdout",
     "output_type": "stream",
     "text": [
      "\n",
      "K-pop\n",
      "Stylistic origins\t\n",
      "Korean music experimental pop gospel rhythm and blues hip hop jazz folk classical country rock reggae EDM\n",
      "Cultural origins\t1940s South Korea\n",
      "Typical instruments\t\n",
      "Vocals drum machine electronic drums bass guitar acoustic guitar synthesizer keyboard sampler sequencer digital audio workstation percussion groovebox\n",
      "Local scenes\n",
      "SeoulIncheonBusanJeju\n",
      "K-pop abbreviation of Korean pop1 Hangul  is characterized by a wide variety of audiovisual elements Although it generally classifies popular music within South Korea the term is often used in a narrower sense to describe a modern form of South Korean pop that is influenced by styles and genres from around the world such as experimental jazz gospel hip hop R&B reggae electronic dance folk country and classical on top of its uniquely traditional Korean music roots2 The more modern form of the genre emerged with one of the earliest K-pop groups Seo Taiji and Boys forming in 1992 Their experimentation with different styles and genres of music and integration of foreign musical elements helped reshape and modernize South Korea's contemporary music scene3\n",
      "\n",
      "케이팝\n"
     ]
    }
   ],
   "source": [
    "# 한글 제거 정규식\n",
    "# ㄱ-ㅎ ㅏ-ㅣ == ㄱ-ㅣ : 값이 연속적이어서\n",
    "# 한글만 찾아라\n",
    "p = re.compile('[ㄱ-ㅣ|가-힣,\\\"\\;\\:\\\"\\[\\]\\(\\)\\.\\,]+')\n",
    "# 한글만 빼고 찾아라\n",
    "p1 = re.compile('[^ㄱ-ㅣ|가-힣]+')\n",
    "txt = '''\n",
    "K-pop\n",
    "Stylistic origins\t\n",
    "Korean music experimental pop gospel rhythm and blues hip hop jazz folk classical country rock reggae EDM\n",
    "Cultural origins\t1940s, South Korea\n",
    "Typical instruments\t\n",
    "Vocals drum machine electronic drums bass guitar acoustic guitar synthesizer keyboard sampler sequencer digital audio workstation percussion groovebox\n",
    "Local scenes\n",
    "SeoulIncheonBusanJeju\n",
    "K-pop (abbreviation of Korean pop;[1] Hangul: 케이팝) is characterized by a wide variety of audiovisual elements. Although it generally classifies \"popular music\" within South Korea, the term is often used in a narrower sense to describe a modern form of South Korean pop that is influenced by styles and genres from around the world, such as experimental, jazz, gospel, hip hop, R&B, reggae, electronic dance, folk, country, and classical on top of its uniquely traditional Korean music roots.[2] The more modern form of the genre emerged with one of the earliest K-pop groups, Seo Taiji and Boys, forming in 1992. Their experimentation with different styles and genres of music and integration of foreign musical elements helped reshape and modernize South Korea's contemporary music scene.[3]\n",
    "'''\n",
    "print(p.sub('',txt))\n",
    "print(p1.sub('',txt))\n",
    "\n"
   ]
  },
  {
   "cell_type": "code",
   "execution_count": 26,
   "metadata": {},
   "outputs": [
    {
     "name": "stdout",
     "output_type": "stream",
     "text": [
      "[ Busan ]\n",
      "\\b=>[Busan]\n",
      "None\n",
      "<_sre.SRE_Match object; span=(7, 12), match='Busan'>\n"
     ]
    }
   ],
   "source": [
    "'''\n",
    "r'' : raw string\n",
    "문자의 경계를 명확하게 알려주기 위해서 r를 기호를 붙여서 사용\n",
    "'''\n",
    "# \\b : 단어 구분자, 보통은 \\s로 구분이 되는데\n",
    "p = re.compile(r'\\sBusan\\s')\n",
    "m = p.search('city Busan a TTT')\n",
    "print('[%s]' % m.group())\n",
    "p = re.compile(r'\\bBusan\\b')\n",
    "m = p.search('city Busan a TTT')\n",
    "print('\\\\b=>[%s]'% m.group())\n",
    "# \\B 는 : 반대\n",
    "p = re.compile(r'\\BBusan\\B')\n",
    "m = p.search('city Busan a TTT')\n",
    "print(m)\n",
    "m = p.search('city aaBusanbb a TTT')\n",
    "print(m)"
   ]
  },
  {
   "cell_type": "markdown",
   "metadata": {},
   "source": [
    "###  컴파일 옵션\n",
    "- DOTALL(S) : .이 \\n 을 제외하고 모든 문자가 매치되는데, 이 옵션을 사용하면 모든 문자(\\n 포함)에 매치가 된다\n",
    "- IGNORECASE(I) : 대소문자 구분하지 않고 구분한다.\n",
    "- MULTILINE(M) : 여러줄 매치 =? ^,$\n",
    "- VERBOSE(X) : 정규식을 붙여서 쓰면 각각 구분이 안되서 해독이 어렵다. => 정규식 사용한것을 줄바꿈해서 늘여뜨려서 각각 어떤 의미인지 주석 사용이 가능하다"
   ]
  },
  {
   "cell_type": "code",
   "execution_count": null,
   "metadata": {},
   "outputs": [],
   "source": []
  },
  {
   "cell_type": "code",
   "execution_count": null,
   "metadata": {},
   "outputs": [],
   "source": []
  },
  {
   "cell_type": "code",
   "execution_count": null,
   "metadata": {},
   "outputs": [],
   "source": []
  },
  {
   "cell_type": "markdown",
   "metadata": {},
   "source": [
    "### 전방 탐색(긍정/부정)\n",
    "- 긍정(positive)\n",
    "> (?=...) : 해당되는 정규식과 매치되어야지 조건이 통과\n",
    "- 부정(negative)\n",
    "> (?!...) : 해당되는 정규식과 매치되지 않아야지 조건이 통과"
   ]
  },
  {
   "cell_type": "code",
   "execution_count": 27,
   "metadata": {},
   "outputs": [
    {
     "name": "stdout",
     "output_type": "stream",
     "text": [
      "http:\n"
     ]
    }
   ],
   "source": [
    "p = re.compile(r'.+:')\n",
    "m = p.search('http://m.naver.com')\n",
    "# 결과가 포로토콜명을 구하시오\n",
    "print( m.group())"
   ]
  },
  {
   "cell_type": "code",
   "execution_count": 28,
   "metadata": {},
   "outputs": [
    {
     "name": "stdout",
     "output_type": "stream",
     "text": [
      "http\n"
     ]
    }
   ],
   "source": [
    "# 구분값(매치되는것은)은 안들어가길 원한다\n",
    "# 앞을 부분을 탐색하여 획득\n",
    "# 긍정형 전방 탐색\n",
    "p = re.compile(r'.+(?=:)')\n",
    "m = p.search('http://m.naver.com')\n",
    "# 결과가 프로토콜명으로 나오게 정규식을 구하시오 => http\n",
    "print( m.group())"
   ]
  },
  {
   "cell_type": "code",
   "execution_count": 29,
   "metadata": {},
   "outputs": [
    {
     "name": "stdout",
     "output_type": "stream",
     "text": [
      "<_sre.SRE_Match object; span=(0, 5), match='a.bat'>\n",
      "None\n",
      "None\n"
     ]
    }
   ],
   "source": [
    "# 다음 열거한 파일명중에 확장자가 py, msi 인 파일은 제외하고\n",
    "# 나머지 파일명만 보여라\n",
    "# 파일명 정규식\n",
    "# p = re.compile(r',*[.].*$)\n",
    "# p = re.compile(r'.*[.](?!py$).*$')\n",
    "p = re.compile(r'.*[.](?!py$|msi$).*$')\n",
    "print( p.search('a.bat') )\n",
    "print( p.search('a.py') )\n",
    "print( p.search('a.msi') )"
   ]
  },
  {
   "cell_type": "code",
   "execution_count": 52,
   "metadata": {},
   "outputs": [
    {
     "name": "stdout",
     "output_type": "stream",
     "text": [
      "KBS 990102-2*******\n"
     ]
    }
   ],
   "source": [
    "# 주민번호 필터링 (응용)\n",
    "data = '''\n",
    "MBC 990101-1234567\n",
    "KBS 990102-2345677\n",
    "'''\n",
    "\n",
    "# 정규식\n",
    "p = re.compile(r'(\\w+)\\s+(\\d{6})[-]([1-4])\\d{6}')\n",
    "# print(p.search('MBC 990101-1234567'))\n",
    "# 그룹을 직접 부를수 있따.\n",
    "# 그룹 1번 참조 : \\g<1>\n",
    "print(p.sub('\\g<1> \\g<2>-\\g<3>*******','KBS 990102-2345677'))"
   ]
  },
  {
   "cell_type": "code",
   "execution_count": 66,
   "metadata": {},
   "outputs": [
    {
     "name": "stdout",
     "output_type": "stream",
     "text": [
      "None\n"
     ]
    }
   ],
   "source": [
    "# 이메일 정규식\n",
    "re.match('\\w+[@]+[a-z]+[.]+[com|co.kr]+','wjdrbaus12@naver.com')\n",
    "email = '''\n",
    "wjdrbaus12@naver.com\n",
    "'''\n",
    "p = re.compile(r'[a-zA-Z0-9+\\/\\_\\.]+@[a-zA-Z0-9+]+[.]+[com|co.kr]+')\n",
    "print(p.match(email))"
   ]
  },
  {
   "cell_type": "code",
   "execution_count": null,
   "metadata": {},
   "outputs": [],
   "source": []
  },
  {
   "cell_type": "code",
   "execution_count": null,
   "metadata": {},
   "outputs": [],
   "source": []
  },
  {
   "cell_type": "code",
   "execution_count": null,
   "metadata": {},
   "outputs": [],
   "source": []
  },
  {
   "cell_type": "code",
   "execution_count": null,
   "metadata": {},
   "outputs": [],
   "source": []
  }
 ],
 "metadata": {
  "kernelspec": {
   "display_name": "Python 3",
   "language": "python",
   "name": "python3"
  },
  "language_info": {
   "codemirror_mode": {
    "name": "ipython",
    "version": 3
   },
   "file_extension": ".py",
   "mimetype": "text/x-python",
   "name": "python",
   "nbconvert_exporter": "python",
   "pygments_lexer": "ipython3",
   "version": "3.6.5"
  }
 },
 "nbformat": 4,
 "nbformat_minor": 2
}
