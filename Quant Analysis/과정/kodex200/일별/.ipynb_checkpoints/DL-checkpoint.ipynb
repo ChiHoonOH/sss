{
 "cells": [
  {
   "cell_type": "code",
   "execution_count": 1,
   "metadata": {},
   "outputs": [],
   "source": [
    "import pandas as pd\n",
    "import numpy as np\n",
    "import seaborn as sns\n",
    "import matplotlib.pyplot as plt"
   ]
  },
  {
   "cell_type": "code",
   "execution_count": 2,
   "metadata": {},
   "outputs": [],
   "source": [
    "kospi_200_items = pd.read_excel('./non_out_data.xlsx')"
   ]
  },
  {
   "cell_type": "code",
   "execution_count": 3,
   "metadata": {
    "scrolled": true
   },
   "outputs": [
    {
     "data": {
      "text/plain": [
       "Index(['변동성 (5일)', '변동성 (20일)', '변동성 (60일)', '거래량 (5일 평균)(주)',\n",
       "       '거래량 (20일 평균)(주)', '거래량 (60일 평균)(주)', '거래량 (120일 평균)(주)',\n",
       "       '시가총액 (보통-상장예정주식수 포함)(백만원)', '공매도거래량 (5일)(주)', '공매도거래량 (20일)(주)',\n",
       "       '공매도거래량 (60일)(주)', '순매수수량(기관계)(주)', '순매수수량(기관계)(5일합산)(주)',\n",
       "       '순매수수량(기관계)(20일합산)(주)', '순매수수량(개인)(주)', '순매수수량(개인)(5일합산)(주)',\n",
       "       '순매수수량(개인)(20일합산)(주)', '순매수수량(외국인계)(주)', '순매수수량(외국인계)(5일합산)(주)',\n",
       "       '순매수수량(외국인계)(20일합산)(주)', '수정주가 (5일 최고)(원)', '수정주가 (5일 평균)(원)',\n",
       "       '수정주가 (20일 최고)(원)', '수정주가 (20일 평균)(원)', '수정주가 (60일 평균)(원)', '수익률(%)(2)',\n",
       "       '수익률(%)(1)', '변동성 (5일)변화율', '변동성 (20일)변화율', '수정주가 (5일 최고)(원)변화율',\n",
       "       '수정주가 (5일 평균)(원)변화율', '수정주가 (20일 최고)(원)변화율', '수정주가 (20일 평균)(원)변화율',\n",
       "       '거래량 (5일 평균)(주)변화율', '거래량 (20일 평균)(주)변화율', '공매도거래량 (5일)(주)변화율',\n",
       "       '공매도거래량 (20일)(주)변화율', '순매수수량(기관계)(주)변화율', '순매수수량(기관계)(5일합산)(주)변화율',\n",
       "       '순매수수량(기관계)(20일합산)(주)변화율', '순매수수량(개인)(주)변화율', '순매수수량(개인)(5일합산)(주)변화율',\n",
       "       '순매수수량(개인)(20일합산)(주)변화율', '순매수수량(외국인계)(주)변화율',\n",
       "       '순매수수량(외국인계)(5일합산)(주)변화율', '순매수수량(외국인계)(20일합산)(주)변화율', 'reve_cate(2)'],\n",
       "      dtype='object')"
      ]
     },
     "execution_count": 3,
     "metadata": {},
     "output_type": "execute_result"
    }
   ],
   "source": [
    "kospi_200_items.columns"
   ]
  },
  {
   "cell_type": "code",
   "execution_count": 5,
   "metadata": {},
   "outputs": [
    {
     "name": "stdout",
     "output_type": "stream",
     "text": [
      "(1178, 46) (295, 46) (1178,) (295,)\n"
     ]
    }
   ],
   "source": [
    "from sklearn.model_selection import train_test_split\n",
    "X_train,X_test,Y_train,Y_test = train_test_split(kospi_200_items.iloc[:,:-1], kospi_200_items['reve_cate(2)'], test_size = 0.2)\n",
    "print(X_train.shape, X_test.shape, Y_train.shape, Y_test.shape)"
   ]
  },
  {
   "cell_type": "code",
   "execution_count": 6,
   "metadata": {},
   "outputs": [
    {
     "name": "stderr",
     "output_type": "stream",
     "text": [
      "C:\\ProgramData\\Anaconda3\\lib\\site-packages\\h5py\\__init__.py:36: FutureWarning: Conversion of the second argument of issubdtype from `float` to `np.floating` is deprecated. In future, it will be treated as `np.float64 == np.dtype(float).type`.\n",
      "  from ._conv import register_converters as _register_converters\n",
      "Using TensorFlow backend.\n"
     ]
    }
   ],
   "source": [
    "import keras\n",
    "from keras.models import Sequential\n",
    "from keras.layers import Dense"
   ]
  },
  {
   "cell_type": "code",
   "execution_count": 14,
   "metadata": {},
   "outputs": [],
   "source": [
    "classifier = Sequential()"
   ]
  },
  {
   "cell_type": "code",
   "execution_count": 15,
   "metadata": {},
   "outputs": [],
   "source": [
    "classifier.add(Dense(units = 10,\n",
    "                    kernel_initializer = 'uniform',\n",
    "                    activation = 'relu',\n",
    "                    input_dim =46))"
   ]
  },
  {
   "cell_type": "code",
   "execution_count": 16,
   "metadata": {},
   "outputs": [],
   "source": [
    "classifier.add(Dense(units = 10,\n",
    "                    kernel_initializer = 'uniform',\n",
    "                    activation = 'relu'))"
   ]
  },
  {
   "cell_type": "code",
   "execution_count": 17,
   "metadata": {},
   "outputs": [],
   "source": [
    "classifier.add(Dense(units = 5,\n",
    "                    kernel_initializer = 'uniform',\n",
    "                    activation = 'relu'))"
   ]
  },
  {
   "cell_type": "code",
   "execution_count": 18,
   "metadata": {},
   "outputs": [],
   "source": [
    "classifier.add(Dense(units = 1,\n",
    "                    kernel_initializer = 'uniform',\n",
    "                    activation = 'sigmoid'))"
   ]
  },
  {
   "cell_type": "code",
   "execution_count": 19,
   "metadata": {},
   "outputs": [],
   "source": [
    "classifier.compile(optimizer='adam',loss = 'binary_crossentropy', metrics=['accuracy'])"
   ]
  },
  {
   "cell_type": "code",
   "execution_count": null,
   "metadata": {
    "scrolled": false
   },
   "outputs": [
    {
     "name": "stdout",
     "output_type": "stream",
     "text": [
      "Epoch 1/200\n",
      "1178/1178 [==============================] - 1s 494us/step - loss: 0.6941 - acc: 0.5136\n",
      "Epoch 2/200\n",
      "1178/1178 [==============================] - 0s 273us/step - loss: 0.6934 - acc: 0.5119\n",
      "Epoch 3/200\n",
      "1178/1178 [==============================] - 0s 202us/step - loss: 0.6926 - acc: 0.5246\n",
      "Epoch 4/200\n",
      "1178/1178 [==============================] - 0s 191us/step - loss: 0.6923 - acc: 0.5246\n",
      "Epoch 5/200\n",
      "1178/1178 [==============================] - 0s 192us/step - loss: 0.6922 - acc: 0.5246\n",
      "Epoch 6/200\n",
      "1178/1178 [==============================] - 0s 185us/step - loss: 0.6921 - acc: 0.5246\n",
      "Epoch 7/200\n",
      "1178/1178 [==============================] - 0s 189us/step - loss: 0.6921 - acc: 0.5246\n",
      "Epoch 8/200\n",
      "1178/1178 [==============================] - 0s 192us/step - loss: 0.6921 - acc: 0.5246\n",
      "Epoch 9/200\n",
      "1178/1178 [==============================] - 0s 193us/step - loss: 0.6921 - acc: 0.5246\n",
      "Epoch 10/200\n",
      "1178/1178 [==============================] - 0s 195us/step - loss: 0.6921 - acc: 0.5246\n",
      "Epoch 11/200\n",
      "1178/1178 [==============================] - 0s 188us/step - loss: 0.6921 - acc: 0.5246\n",
      "Epoch 12/200\n",
      "1178/1178 [==============================] - 0s 190us/step - loss: 0.6921 - acc: 0.5246\n",
      "Epoch 13/200\n",
      "1178/1178 [==============================] - 0s 208us/step - loss: 0.6921 - acc: 0.5246\n",
      "Epoch 14/200\n",
      "1178/1178 [==============================] - 0s 204us/step - loss: 0.6920 - acc: 0.5246\n",
      "Epoch 15/200\n",
      "1178/1178 [==============================] - 0s 214us/step - loss: 0.6921 - acc: 0.5246\n",
      "Epoch 16/200\n",
      "1178/1178 [==============================] - 0s 201us/step - loss: 0.6920 - acc: 0.5246\n",
      "Epoch 17/200\n",
      "1178/1178 [==============================] - 0s 189us/step - loss: 0.6921 - acc: 0.5246\n",
      "Epoch 18/200\n",
      "1178/1178 [==============================] - 0s 196us/step - loss: 0.6921 - acc: 0.5246\n",
      "Epoch 19/200\n",
      "1178/1178 [==============================] - 0s 191us/step - loss: 0.6921 - acc: 0.5246\n",
      "Epoch 20/200\n",
      "1178/1178 [==============================] - 0s 224us/step - loss: 0.6920 - acc: 0.5246\n",
      "Epoch 21/200\n",
      "1178/1178 [==============================] - 0s 189us/step - loss: 0.6921 - acc: 0.5246\n",
      "Epoch 22/200\n",
      "1178/1178 [==============================] - 0s 193us/step - loss: 0.6920 - acc: 0.5246\n",
      "Epoch 23/200\n",
      "1178/1178 [==============================] - 0s 200us/step - loss: 0.6921 - acc: 0.5246\n",
      "Epoch 24/200\n",
      "1178/1178 [==============================] - 0s 185us/step - loss: 0.6921 - acc: 0.5246\n",
      "Epoch 25/200\n",
      "1178/1178 [==============================] - 0s 201us/step - loss: 0.6920 - acc: 0.5246\n",
      "Epoch 26/200\n",
      "1178/1178 [==============================] - 0s 199us/step - loss: 0.6920 - acc: 0.5246\n",
      "Epoch 27/200\n",
      "1178/1178 [==============================] - 0s 189us/step - loss: 0.6921 - acc: 0.5246\n",
      "Epoch 28/200\n",
      "1178/1178 [==============================] - 0s 189us/step - loss: 0.6920 - acc: 0.5246\n",
      "Epoch 29/200\n",
      "1178/1178 [==============================] - 0s 201us/step - loss: 0.6920 - acc: 0.5246\n",
      "Epoch 30/200\n",
      "1178/1178 [==============================] - 0s 232us/step - loss: 0.6920 - acc: 0.5246\n",
      "Epoch 31/200\n",
      "1178/1178 [==============================] - 0s 207us/step - loss: 0.6920 - acc: 0.5246\n",
      "Epoch 32/200\n",
      "1178/1178 [==============================] - 0s 189us/step - loss: 0.6920 - acc: 0.5246\n",
      "Epoch 33/200\n",
      "1178/1178 [==============================] - 0s 193us/step - loss: 0.6921 - acc: 0.5246\n",
      "Epoch 34/200\n",
      "1178/1178 [==============================] - 0s 192us/step - loss: 0.6920 - acc: 0.5246\n",
      "Epoch 35/200\n",
      "1178/1178 [==============================] - 0s 187us/step - loss: 0.6920 - acc: 0.5246\n",
      "Epoch 36/200\n",
      "1178/1178 [==============================] - 0s 199us/step - loss: 0.6921 - acc: 0.5246\n",
      "Epoch 37/200\n",
      "1178/1178 [==============================] - 0s 184us/step - loss: 0.6921 - acc: 0.5246\n",
      "Epoch 38/200\n",
      "1178/1178 [==============================] - 0s 198us/step - loss: 0.6921 - acc: 0.5246\n",
      "Epoch 39/200\n",
      "1178/1178 [==============================] - 0s 197us/step - loss: 0.6921 - acc: 0.5246\n",
      "Epoch 40/200\n",
      "1178/1178 [==============================] - 0s 245us/step - loss: 0.6921 - acc: 0.5246\n",
      "Epoch 41/200\n",
      "1178/1178 [==============================] - 0s 205us/step - loss: 0.6921 - acc: 0.5246\n",
      "Epoch 42/200\n",
      "1178/1178 [==============================] - 0s 193us/step - loss: 0.6921 - acc: 0.5246\n",
      "Epoch 43/200\n",
      "1178/1178 [==============================] - 0s 184us/step - loss: 0.6920 - acc: 0.5246\n",
      "Epoch 44/200\n",
      "1178/1178 [==============================] - 0s 191us/step - loss: 0.6921 - acc: 0.5246\n",
      "Epoch 45/200\n",
      "1178/1178 [==============================] - 0s 190us/step - loss: 0.6920 - acc: 0.5246\n",
      "Epoch 46/200\n",
      "1178/1178 [==============================] - 0s 191us/step - loss: 0.6921 - acc: 0.5246\n",
      "Epoch 47/200\n",
      "1178/1178 [==============================] - 0s 235us/step - loss: 0.6920 - acc: 0.5246\n",
      "Epoch 48/200\n",
      " 752/1178 [==================>...........] - ETA: 0s - loss: 0.6925 - acc: 0.5199"
     ]
    }
   ],
   "source": [
    "classifier.fit(X_train,Y_train,batch_size=4,epochs=200)"
   ]
  },
  {
   "cell_type": "code",
   "execution_count": 52,
   "metadata": {},
   "outputs": [],
   "source": [
    "pre = classifier.predict(X_test)"
   ]
  },
  {
   "cell_type": "code",
   "execution_count": 53,
   "metadata": {},
   "outputs": [],
   "source": [
    "pre1 = (pre >0.5)"
   ]
  },
  {
   "cell_type": "code",
   "execution_count": 54,
   "metadata": {},
   "outputs": [],
   "source": [
    "from sklearn.metrics import confusion_matrix"
   ]
  },
  {
   "cell_type": "code",
   "execution_count": 55,
   "metadata": {},
   "outputs": [
    {
     "data": {
      "text/plain": [
       "array([[131, 192],\n",
       "       [ 83, 134]], dtype=int64)"
      ]
     },
     "execution_count": 55,
     "metadata": {},
     "output_type": "execute_result"
    }
   ],
   "source": [
    "confusion_matrix(Y_test,pre1)"
   ]
  },
  {
   "cell_type": "code",
   "execution_count": 56,
   "metadata": {
    "scrolled": true
   },
   "outputs": [
    {
     "data": {
      "text/plain": [
       "540"
      ]
     },
     "execution_count": 56,
     "metadata": {},
     "output_type": "execute_result"
    }
   ],
   "source": [
    "139+ 184+ 90 +127"
   ]
  },
  {
   "cell_type": "code",
   "execution_count": 57,
   "metadata": {},
   "outputs": [
    {
     "data": {
      "text/plain": [
       "0.49074074074074076"
      ]
     },
     "execution_count": 57,
     "metadata": {},
     "output_type": "execute_result"
    }
   ],
   "source": [
    "(131+134)/540"
   ]
  },
  {
   "cell_type": "code",
   "execution_count": null,
   "metadata": {},
   "outputs": [],
   "source": []
  },
  {
   "cell_type": "code",
   "execution_count": null,
   "metadata": {},
   "outputs": [],
   "source": []
  }
 ],
 "metadata": {
  "kernelspec": {
   "display_name": "Python 3",
   "language": "python",
   "name": "python3"
  },
  "language_info": {
   "codemirror_mode": {
    "name": "ipython",
    "version": 3
   },
   "file_extension": ".py",
   "mimetype": "text/x-python",
   "name": "python",
   "nbconvert_exporter": "python",
   "pygments_lexer": "ipython3",
   "version": "3.6.5"
  }
 },
 "nbformat": 4,
 "nbformat_minor": 2
}
