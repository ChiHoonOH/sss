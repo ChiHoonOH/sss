{
 "cells": [
  {
   "cell_type": "code",
   "execution_count": 1,
   "metadata": {},
   "outputs": [],
   "source": [
    "import pandas as pd\n",
    "import numpy as np\n",
    "import seaborn as sns\n",
    "import matplotlib.pyplot as plt"
   ]
  },
  {
   "cell_type": "code",
   "execution_count": 2,
   "metadata": {},
   "outputs": [],
   "source": [
    "kospi_200_items = pd.read_excel('./non_out_data.xlsx')"
   ]
  },
  {
   "cell_type": "code",
   "execution_count": 3,
   "metadata": {},
   "outputs": [
    {
     "data": {
      "text/plain": [
       "Index(['외국인보유비중(티커)(%)', '공매도거래량 (5일)(주)', '공매도거래량 (20일)(주)',\n",
       "       '공매도거래량 (60일)(주)', '순매수수량(기관계)(주)', '순매수수량(기관계)(5일합산)(주)',\n",
       "       '순매수수량(기관계)(20일합산)(주)', '순매수수량(개인)(주)', '순매수수량(개인)(5일합산)(주)',\n",
       "       '순매수수량(개인)(20일합산)(주)', '순매수수량(외국인계)(주)', '순매수수량(외국인계)(5일합산)(주)',\n",
       "       '순매수수량(외국인계)(20일합산)(주)', 'PBR(IFRS-연결)', 'PSR(IFRS-연결)', '변동성 (5일)',\n",
       "       '변동성 (20일)', 'Name', '변동성 (5일)변화율', '변동성 (20일)변화율',\n",
       "       '수정주가 (5일 최고)(원)변화율', '수정주가 (20일 최고)(원)변화율', '외국인보유비중(티커)(%)변화율',\n",
       "       '공매도거래량 (20일)(주)변화율', '공매도거래량 (60일)(주)변화율', '순매수수량(기관계)(주)변화율',\n",
       "       '순매수수량(기관계)(20일합산)(주)변화율', '순매수수량(개인)(주)변화율', '순매수수량(개인)(20일합산)(주)변화율',\n",
       "       '순매수수량(외국인계)(주)변화율', '순매수수량(외국인계)(20일합산)(주)변화율', 'PBR(IFRS-연결)변화율',\n",
       "       'PSR(IFRS-연결)변화율', '수정주가 (5일 최저)(원)변화율', '수정주가 (20일 최저)(원)변화율',\n",
       "       '수정주가 (5일 최고)(원)', '수정주가 (5일 평균)(원)', '수정주가 (20일 최고)(원)',\n",
       "       '수정주가 (5일 최저)(원)', '수정주가 (20일 최저)(원)', '수정주가 (20일 평균)(원)',\n",
       "       '거래량 (5일 평균)(주)', '거래량 (20일 평균)(주)', '거래량 (60일 평균)(주)',\n",
       "       '거래량 (120일 평균)(주)', '수익률 (1개월)(%)', '1개월 수익률(2)'],\n",
       "      dtype='object')"
      ]
     },
     "execution_count": 3,
     "metadata": {},
     "output_type": "execute_result"
    }
   ],
   "source": [
    "kospi_200_items.columns"
   ]
  },
  {
   "cell_type": "code",
   "execution_count": 4,
   "metadata": {},
   "outputs": [],
   "source": [
    "def data_sp(data):\n",
    "    com_name_set = list(set(data.Name))\n",
    "    \n",
    "    ## 18년도 3,6월 이전 이후로 나누기\n",
    "    train_set = pd.DataFrame()\n",
    "    test_set = pd.DataFrame()\n",
    "    for i in range(len(com_name_set)):\n",
    "        sub_set = data[ data.Name == com_name_set[i]]\n",
    "        train_set = train_set.append(sub_set[:-3])\n",
    "        test_set = test_set.append(sub_set[-3:])\n",
    "    return train_set , test_set"
   ]
  },
  {
   "cell_type": "code",
   "execution_count": 5,
   "metadata": {},
   "outputs": [],
   "source": [
    "train,test = data_sp(kospi_200_items)"
   ]
  },
  {
   "cell_type": "code",
   "execution_count": 6,
   "metadata": {},
   "outputs": [],
   "source": [
    "cols = ['변동성 (20일)', '거래량 (20일 평균)(주)', '외국인보유비중(보통+우선)(%)', '공매도거래량 (20일)(주)',\n",
    "       '순매수수량(개인)(20일합산)(주)', '순매수수량(기관계)(20일합산)(주)',\n",
    "       'PER(IFRS-연결)', 'PBR(IFRS-연결)', 'PSR(IFRS-연결)', '변동성 (20일)변화율','외국인보유비중(보통+우선)(%)변화율',\n",
    "        'PER(IFRS-연결)변화율', 'PBR(IFRS-연결)변화율','PSR(IFRS-연결)변화율']"
   ]
  },
  {
   "cell_type": "code",
   "execution_count": 132,
   "metadata": {},
   "outputs": [],
   "source": [
    "## train test를 X,Y 나누기\n",
    "X_train = train[cols]\n",
    "\n",
    "X_test = test[cols]\n",
    "\n",
    "Y_train = train['1개월 수익률(2)']\n",
    "Y_test = test['1개월 수익률(2)']"
   ]
  },
  {
   "cell_type": "code",
   "execution_count": 133,
   "metadata": {},
   "outputs": [],
   "source": [
    "import keras\n",
    "from keras.models import Sequential\n",
    "from keras.layers import Dense"
   ]
  },
  {
   "cell_type": "code",
   "execution_count": 155,
   "metadata": {},
   "outputs": [],
   "source": [
    "classifier = Sequential()"
   ]
  },
  {
   "cell_type": "code",
   "execution_count": 156,
   "metadata": {},
   "outputs": [],
   "source": [
    "classifier.add(Dense(units = 7,\n",
    "                    kernel_initializer = 'uniform',\n",
    "                    activation = 'relu',\n",
    "                    input_dim =14))"
   ]
  },
  {
   "cell_type": "code",
   "execution_count": 157,
   "metadata": {},
   "outputs": [],
   "source": [
    "classifier.add(Dense(units = 7,\n",
    "                    kernel_initializer = 'uniform',\n",
    "                    activation = 'relu'))"
   ]
  },
  {
   "cell_type": "code",
   "execution_count": 158,
   "metadata": {},
   "outputs": [],
   "source": [
    "classifier.add(Dense(units = 4,\n",
    "                    kernel_initializer = 'uniform',\n",
    "                    activation = 'relu'))"
   ]
  },
  {
   "cell_type": "code",
   "execution_count": 159,
   "metadata": {},
   "outputs": [],
   "source": [
    "classifier.add(Dense(units = 1,\n",
    "                    kernel_initializer = 'uniform',\n",
    "                    activation = 'sigmoid'))"
   ]
  },
  {
   "cell_type": "code",
   "execution_count": 160,
   "metadata": {},
   "outputs": [],
   "source": [
    "classifier.compile(optimizer='adam',loss = 'binary_crossentropy', metrics=['accuracy'])"
   ]
  },
  {
   "cell_type": "code",
   "execution_count": 161,
   "metadata": {
    "scrolled": false
   },
   "outputs": [
    {
     "name": "stdout",
     "output_type": "stream",
     "text": [
      "Epoch 1/200\n",
      "8810/8810 [==============================] - 3s 334us/step - loss: 0.6894 - acc: 0.5343\n",
      "Epoch 2/200\n",
      "8810/8810 [==============================] - 2s 239us/step - loss: 0.6848 - acc: 0.5561\n",
      "Epoch 3/200\n",
      "8810/8810 [==============================] - 2s 245us/step - loss: 0.6834 - acc: 0.5565\n",
      "Epoch 4/200\n",
      "8810/8810 [==============================] - 3s 307us/step - loss: 0.6823 - acc: 0.5632\n",
      "Epoch 5/200\n",
      "8810/8810 [==============================] - 3s 326us/step - loss: 0.6818 - acc: 0.5588\n",
      "Epoch 6/200\n",
      "8810/8810 [==============================] - 3s 322us/step - loss: 0.6813 - acc: 0.5623\n",
      "Epoch 7/200\n",
      "8810/8810 [==============================] - 3s 329us/step - loss: 0.6803 - acc: 0.5635\n",
      "Epoch 8/200\n",
      "8810/8810 [==============================] - 3s 326us/step - loss: 0.6796 - acc: 0.5637\n",
      "Epoch 9/200\n",
      "8810/8810 [==============================] - 3s 347us/step - loss: 0.6790 - acc: 0.5664\n",
      "Epoch 10/200\n",
      "8810/8810 [==============================] - 3s 378us/step - loss: 0.6785 - acc: 0.5653\n",
      "Epoch 11/200\n",
      "8810/8810 [==============================] - 3s 325us/step - loss: 0.6777 - acc: 0.5672\n",
      "Epoch 12/200\n",
      "8810/8810 [==============================] - 3s 339us/step - loss: 0.6783 - acc: 0.5650\n",
      "Epoch 13/200\n",
      "8810/8810 [==============================] - 3s 342us/step - loss: 0.6775 - acc: 0.5666\n",
      "Epoch 14/200\n",
      "8810/8810 [==============================] - 4s 411us/step - loss: 0.6776 - acc: 0.5650\n",
      "Epoch 15/200\n",
      "8810/8810 [==============================] - 5s 529us/step - loss: 0.6768 - acc: 0.5690\n",
      "Epoch 16/200\n",
      "8810/8810 [==============================] - 4s 407us/step - loss: 0.6773 - acc: 0.5723\n",
      "Epoch 17/200\n",
      "8810/8810 [==============================] - 3s 337us/step - loss: 0.6763 - acc: 0.5671\n",
      "Epoch 18/200\n",
      "8810/8810 [==============================] - 3s 333us/step - loss: 0.6767 - acc: 0.5701\n",
      "Epoch 19/200\n",
      "8810/8810 [==============================] - 3s 338us/step - loss: 0.6761 - acc: 0.5733\n",
      "Epoch 20/200\n",
      "8810/8810 [==============================] - 3s 327us/step - loss: 0.6764 - acc: 0.5689\n",
      "Epoch 21/200\n",
      "8810/8810 [==============================] - 3s 347us/step - loss: 0.6760 - acc: 0.5748\n",
      "Epoch 22/200\n",
      "8810/8810 [==============================] - 3s 341us/step - loss: 0.6757 - acc: 0.5678\n",
      "Epoch 23/200\n",
      "8810/8810 [==============================] - 3s 342us/step - loss: 0.6762 - acc: 0.5705\n",
      "Epoch 24/200\n",
      "8810/8810 [==============================] - 3s 339us/step - loss: 0.6754 - acc: 0.5719\n",
      "Epoch 25/200\n",
      "8810/8810 [==============================] - 3s 372us/step - loss: 0.6753 - acc: 0.5715\n",
      "Epoch 26/200\n",
      "8810/8810 [==============================] - 3s 352us/step - loss: 0.6748 - acc: 0.5696\n",
      "Epoch 27/200\n",
      "8810/8810 [==============================] - 3s 368us/step - loss: 0.6755 - acc: 0.5725\n",
      "Epoch 28/200\n",
      "8810/8810 [==============================] - 3s 341us/step - loss: 0.6752 - acc: 0.5704\n",
      "Epoch 29/200\n",
      "8810/8810 [==============================] - 3s 341us/step - loss: 0.6747 - acc: 0.5719\n",
      "Epoch 30/200\n",
      "8810/8810 [==============================] - 3s 346us/step - loss: 0.6746 - acc: 0.5721\n",
      "Epoch 31/200\n",
      "8810/8810 [==============================] - 3s 349us/step - loss: 0.6745 - acc: 0.5695\n",
      "Epoch 32/200\n",
      "8810/8810 [==============================] - 3s 347us/step - loss: 0.6747 - acc: 0.5698\n",
      "Epoch 33/200\n",
      "8810/8810 [==============================] - 3s 347us/step - loss: 0.6746 - acc: 0.5721\n",
      "Epoch 34/200\n",
      "8810/8810 [==============================] - 4s 403us/step - loss: 0.6742 - acc: 0.5699\n",
      "Epoch 35/200\n",
      "8810/8810 [==============================] - 3s 351us/step - loss: 0.6745 - acc: 0.5716\n",
      "Epoch 36/200\n",
      "8810/8810 [==============================] - 3s 371us/step - loss: 0.6742 - acc: 0.5716\n",
      "Epoch 37/200\n",
      "8810/8810 [==============================] - 3s 341us/step - loss: 0.6741 - acc: 0.5713\n",
      "Epoch 38/200\n",
      "8810/8810 [==============================] - 3s 343us/step - loss: 0.6742 - acc: 0.5733\n",
      "Epoch 39/200\n",
      "8810/8810 [==============================] - 3s 350us/step - loss: 0.6741 - acc: 0.5754\n",
      "Epoch 40/200\n",
      "8810/8810 [==============================] - 3s 347us/step - loss: 0.6744 - acc: 0.5697\n",
      "Epoch 41/200\n",
      "8810/8810 [==============================] - 3s 352us/step - loss: 0.6743 - acc: 0.5694\n",
      "Epoch 42/200\n",
      "8810/8810 [==============================] - 3s 372us/step - loss: 0.6737 - acc: 0.5734\n",
      "Epoch 43/200\n",
      "8810/8810 [==============================] - 3s 349us/step - loss: 0.6738 - acc: 0.5725\n",
      "Epoch 44/200\n",
      "8810/8810 [==============================] - 3s 360us/step - loss: 0.6735 - acc: 0.5694\n",
      "Epoch 45/200\n",
      "8810/8810 [==============================] - 3s 358us/step - loss: 0.6734 - acc: 0.5721\n",
      "Epoch 46/200\n",
      "8810/8810 [==============================] - 3s 364us/step - loss: 0.6735 - acc: 0.5738\n",
      "Epoch 47/200\n",
      "8810/8810 [==============================] - 3s 352us/step - loss: 0.6731 - acc: 0.5778\n",
      "Epoch 48/200\n",
      "8810/8810 [==============================] - 3s 354us/step - loss: 0.6729 - acc: 0.5760\n",
      "Epoch 49/200\n",
      "8810/8810 [==============================] - 3s 367us/step - loss: 0.6734 - acc: 0.5759\n",
      "Epoch 50/200\n",
      "8810/8810 [==============================] - 3s 346us/step - loss: 0.6730 - acc: 0.5751\n",
      "Epoch 51/200\n",
      "8810/8810 [==============================] - 3s 343us/step - loss: 0.6725 - acc: 0.5738\n",
      "Epoch 52/200\n",
      "8810/8810 [==============================] - 3s 347us/step - loss: 0.6729 - acc: 0.5753\n",
      "Epoch 53/200\n",
      "8810/8810 [==============================] - 4s 494us/step - loss: 0.6722 - acc: 0.5784\n",
      "Epoch 54/200\n",
      "8810/8810 [==============================] - 4s 453us/step - loss: 0.6721 - acc: 0.5749\n",
      "Epoch 55/200\n",
      "8810/8810 [==============================] - 4s 400us/step - loss: 0.6721 - acc: 0.5733\n",
      "Epoch 56/200\n",
      "8810/8810 [==============================] - 3s 353us/step - loss: 0.6725 - acc: 0.5742\n",
      "Epoch 57/200\n",
      "8810/8810 [==============================] - 3s 350us/step - loss: 0.6722 - acc: 0.5778\n",
      "Epoch 58/200\n",
      "8810/8810 [==============================] - 3s 366us/step - loss: 0.6728 - acc: 0.5738\n",
      "Epoch 59/200\n",
      "8810/8810 [==============================] - 3s 369us/step - loss: 0.6719 - acc: 0.5736\n",
      "Epoch 60/200\n",
      "8810/8810 [==============================] - 3s 359us/step - loss: 0.6722 - acc: 0.5768\n",
      "Epoch 61/200\n",
      "8810/8810 [==============================] - 3s 359us/step - loss: 0.6720 - acc: 0.5764\n",
      "Epoch 62/200\n",
      "8810/8810 [==============================] - 3s 352us/step - loss: 0.6719 - acc: 0.5771\n",
      "Epoch 63/200\n",
      "8810/8810 [==============================] - 3s 349us/step - loss: 0.6718 - acc: 0.5764\n",
      "Epoch 64/200\n",
      "8810/8810 [==============================] - 4s 403us/step - loss: 0.6718 - acc: 0.5783\n",
      "Epoch 65/200\n",
      "8810/8810 [==============================] - 3s 371us/step - loss: 0.6714 - acc: 0.5760\n",
      "Epoch 66/200\n",
      "8810/8810 [==============================] - 3s 335us/step - loss: 0.6714 - acc: 0.5773\n",
      "Epoch 67/200\n",
      "8810/8810 [==============================] - 3s 333us/step - loss: 0.6717 - acc: 0.5726\n",
      "Epoch 68/200\n",
      "8810/8810 [==============================] - 3s 329us/step - loss: 0.6714 - acc: 0.5738\n",
      "Epoch 69/200\n",
      "8810/8810 [==============================] - 3s 364us/step - loss: 0.6717 - acc: 0.5771\n",
      "Epoch 70/200\n",
      "8810/8810 [==============================] - 3s 366us/step - loss: 0.6713 - acc: 0.5745\n",
      "Epoch 71/200\n",
      "8810/8810 [==============================] - 4s 452us/step - loss: 0.6712 - acc: 0.5742\n",
      "Epoch 72/200\n",
      "8810/8810 [==============================] - 3s 368us/step - loss: 0.6711 - acc: 0.5792\n",
      "Epoch 73/200\n",
      "8810/8810 [==============================] - 3s 391us/step - loss: 0.6710 - acc: 0.5747\n",
      "Epoch 74/200\n",
      "8810/8810 [==============================] - 4s 423us/step - loss: 0.6714 - acc: 0.5749\n",
      "Epoch 75/200\n",
      "8810/8810 [==============================] - 4s 409us/step - loss: 0.6706 - acc: 0.5792\n",
      "Epoch 76/200\n",
      "8810/8810 [==============================] - 4s 444us/step - loss: 0.6710 - acc: 0.5741\n",
      "Epoch 77/200\n",
      "8810/8810 [==============================] - 3s 338us/step - loss: 0.6712 - acc: 0.5755\n",
      "Epoch 78/200\n",
      "8810/8810 [==============================] - 3s 339us/step - loss: 0.6711 - acc: 0.5759\n",
      "Epoch 79/200\n",
      "8810/8810 [==============================] - 3s 336us/step - loss: 0.6714 - acc: 0.5796\n",
      "Epoch 80/200\n",
      "8810/8810 [==============================] - 3s 337us/step - loss: 0.6710 - acc: 0.5765\n",
      "Epoch 81/200\n",
      "8810/8810 [==============================] - 3s 334us/step - loss: 0.6708 - acc: 0.5772\n",
      "Epoch 82/200\n",
      "8810/8810 [==============================] - 3s 321us/step - loss: 0.6710 - acc: 0.5757\n",
      "Epoch 83/200\n",
      "8810/8810 [==============================] - 3s 320us/step - loss: 0.6707 - acc: 0.5779\n",
      "Epoch 84/200\n",
      "8810/8810 [==============================] - 3s 324us/step - loss: 0.6707 - acc: 0.5741\n",
      "Epoch 85/200\n",
      "8810/8810 [==============================] - 3s 327us/step - loss: 0.6705 - acc: 0.5780\n",
      "Epoch 86/200\n",
      "8810/8810 [==============================] - 3s 327us/step - loss: 0.6703 - acc: 0.5779\n",
      "Epoch 87/200\n",
      "8810/8810 [==============================] - 3s 348us/step - loss: 0.6708 - acc: 0.5755\n",
      "Epoch 88/200\n",
      "8810/8810 [==============================] - 3s 356us/step - loss: 0.6705 - acc: 0.5790\n",
      "Epoch 89/200\n",
      "8810/8810 [==============================] - 3s 363us/step - loss: 0.6718 - acc: 0.5778\n",
      "Epoch 90/200\n",
      "8810/8810 [==============================] - 4s 412us/step - loss: 0.6708 - acc: 0.5791\n",
      "Epoch 91/200\n",
      "8810/8810 [==============================] - 3s 336us/step - loss: 0.6710 - acc: 0.5765\n",
      "Epoch 92/200\n",
      "8810/8810 [==============================] - 3s 331us/step - loss: 0.6701 - acc: 0.5802\n",
      "Epoch 93/200\n",
      "8810/8810 [==============================] - 3s 360us/step - loss: 0.6705 - acc: 0.5767\n",
      "Epoch 94/200\n",
      "8810/8810 [==============================] - 3s 380us/step - loss: 0.6703 - acc: 0.5780\n",
      "Epoch 95/200\n",
      "8810/8810 [==============================] - 3s 339us/step - loss: 0.6704 - acc: 0.5800\n",
      "Epoch 96/200\n",
      "8810/8810 [==============================] - 3s 343us/step - loss: 0.6702 - acc: 0.5774\n",
      "Epoch 97/200\n",
      "8810/8810 [==============================] - 3s 332us/step - loss: 0.6703 - acc: 0.5758\n",
      "Epoch 98/200\n",
      "8810/8810 [==============================] - 3s 336us/step - loss: 0.6703 - acc: 0.5738\n",
      "Epoch 99/200\n",
      "8810/8810 [==============================] - 3s 349us/step - loss: 0.6699 - acc: 0.5738\n",
      "Epoch 100/200\n",
      "5496/8810 [=================>............] - ETA: 1s - loss: 0.6726 - acc: 0.5750"
     ]
    },
    {
     "ename": "KeyboardInterrupt",
     "evalue": "",
     "output_type": "error",
     "traceback": [
      "\u001b[1;31m---------------------------------------------------------------------------\u001b[0m",
      "\u001b[1;31mKeyboardInterrupt\u001b[0m                         Traceback (most recent call last)",
      "\u001b[1;32m<ipython-input-161-79d8a0391725>\u001b[0m in \u001b[0;36m<module>\u001b[1;34m()\u001b[0m\n\u001b[1;32m----> 1\u001b[1;33m \u001b[0mclassifier\u001b[0m\u001b[1;33m.\u001b[0m\u001b[0mfit\u001b[0m\u001b[1;33m(\u001b[0m\u001b[0mX_train\u001b[0m\u001b[1;33m,\u001b[0m\u001b[0mY_train\u001b[0m\u001b[1;33m,\u001b[0m\u001b[0mbatch_size\u001b[0m\u001b[1;33m=\u001b[0m\u001b[1;36m4\u001b[0m\u001b[1;33m,\u001b[0m\u001b[0mepochs\u001b[0m\u001b[1;33m=\u001b[0m\u001b[1;36m200\u001b[0m\u001b[1;33m)\u001b[0m\u001b[1;33m\u001b[0m\u001b[0m\n\u001b[0m",
      "\u001b[1;32mC:\\ProgramData\\Anaconda3\\lib\\site-packages\\keras\\engine\\training.py\u001b[0m in \u001b[0;36mfit\u001b[1;34m(self, x, y, batch_size, epochs, verbose, callbacks, validation_split, validation_data, shuffle, class_weight, sample_weight, initial_epoch, steps_per_epoch, validation_steps, **kwargs)\u001b[0m\n\u001b[0;32m   1037\u001b[0m                                         \u001b[0minitial_epoch\u001b[0m\u001b[1;33m=\u001b[0m\u001b[0minitial_epoch\u001b[0m\u001b[1;33m,\u001b[0m\u001b[1;33m\u001b[0m\u001b[0m\n\u001b[0;32m   1038\u001b[0m                                         \u001b[0msteps_per_epoch\u001b[0m\u001b[1;33m=\u001b[0m\u001b[0msteps_per_epoch\u001b[0m\u001b[1;33m,\u001b[0m\u001b[1;33m\u001b[0m\u001b[0m\n\u001b[1;32m-> 1039\u001b[1;33m                                         validation_steps=validation_steps)\n\u001b[0m\u001b[0;32m   1040\u001b[0m \u001b[1;33m\u001b[0m\u001b[0m\n\u001b[0;32m   1041\u001b[0m     def evaluate(self, x=None, y=None,\n",
      "\u001b[1;32mC:\\ProgramData\\Anaconda3\\lib\\site-packages\\keras\\engine\\training_arrays.py\u001b[0m in \u001b[0;36mfit_loop\u001b[1;34m(model, f, ins, out_labels, batch_size, epochs, verbose, callbacks, val_f, val_ins, shuffle, callback_metrics, initial_epoch, steps_per_epoch, validation_steps)\u001b[0m\n\u001b[0;32m    197\u001b[0m                     \u001b[0mins_batch\u001b[0m\u001b[1;33m[\u001b[0m\u001b[0mi\u001b[0m\u001b[1;33m]\u001b[0m \u001b[1;33m=\u001b[0m \u001b[0mins_batch\u001b[0m\u001b[1;33m[\u001b[0m\u001b[0mi\u001b[0m\u001b[1;33m]\u001b[0m\u001b[1;33m.\u001b[0m\u001b[0mtoarray\u001b[0m\u001b[1;33m(\u001b[0m\u001b[1;33m)\u001b[0m\u001b[1;33m\u001b[0m\u001b[0m\n\u001b[0;32m    198\u001b[0m \u001b[1;33m\u001b[0m\u001b[0m\n\u001b[1;32m--> 199\u001b[1;33m                 \u001b[0mouts\u001b[0m \u001b[1;33m=\u001b[0m \u001b[0mf\u001b[0m\u001b[1;33m(\u001b[0m\u001b[0mins_batch\u001b[0m\u001b[1;33m)\u001b[0m\u001b[1;33m\u001b[0m\u001b[0m\n\u001b[0m\u001b[0;32m    200\u001b[0m                 \u001b[0mouts\u001b[0m \u001b[1;33m=\u001b[0m \u001b[0mto_list\u001b[0m\u001b[1;33m(\u001b[0m\u001b[0mouts\u001b[0m\u001b[1;33m)\u001b[0m\u001b[1;33m\u001b[0m\u001b[0m\n\u001b[0;32m    201\u001b[0m                 \u001b[1;32mfor\u001b[0m \u001b[0ml\u001b[0m\u001b[1;33m,\u001b[0m \u001b[0mo\u001b[0m \u001b[1;32min\u001b[0m \u001b[0mzip\u001b[0m\u001b[1;33m(\u001b[0m\u001b[0mout_labels\u001b[0m\u001b[1;33m,\u001b[0m \u001b[0mouts\u001b[0m\u001b[1;33m)\u001b[0m\u001b[1;33m:\u001b[0m\u001b[1;33m\u001b[0m\u001b[0m\n",
      "\u001b[1;32mC:\\ProgramData\\Anaconda3\\lib\\site-packages\\keras\\backend\\tensorflow_backend.py\u001b[0m in \u001b[0;36m__call__\u001b[1;34m(self, inputs)\u001b[0m\n\u001b[0;32m   2713\u001b[0m                 \u001b[1;32mreturn\u001b[0m \u001b[0mself\u001b[0m\u001b[1;33m.\u001b[0m\u001b[0m_legacy_call\u001b[0m\u001b[1;33m(\u001b[0m\u001b[0minputs\u001b[0m\u001b[1;33m)\u001b[0m\u001b[1;33m\u001b[0m\u001b[0m\n\u001b[0;32m   2714\u001b[0m \u001b[1;33m\u001b[0m\u001b[0m\n\u001b[1;32m-> 2715\u001b[1;33m             \u001b[1;32mreturn\u001b[0m \u001b[0mself\u001b[0m\u001b[1;33m.\u001b[0m\u001b[0m_call\u001b[0m\u001b[1;33m(\u001b[0m\u001b[0minputs\u001b[0m\u001b[1;33m)\u001b[0m\u001b[1;33m\u001b[0m\u001b[0m\n\u001b[0m\u001b[0;32m   2716\u001b[0m         \u001b[1;32melse\u001b[0m\u001b[1;33m:\u001b[0m\u001b[1;33m\u001b[0m\u001b[0m\n\u001b[0;32m   2717\u001b[0m             \u001b[1;32mif\u001b[0m \u001b[0mpy_any\u001b[0m\u001b[1;33m(\u001b[0m\u001b[0mis_tensor\u001b[0m\u001b[1;33m(\u001b[0m\u001b[0mx\u001b[0m\u001b[1;33m)\u001b[0m \u001b[1;32mfor\u001b[0m \u001b[0mx\u001b[0m \u001b[1;32min\u001b[0m \u001b[0minputs\u001b[0m\u001b[1;33m)\u001b[0m\u001b[1;33m:\u001b[0m\u001b[1;33m\u001b[0m\u001b[0m\n",
      "\u001b[1;32mC:\\ProgramData\\Anaconda3\\lib\\site-packages\\keras\\backend\\tensorflow_backend.py\u001b[0m in \u001b[0;36m_call\u001b[1;34m(self, inputs)\u001b[0m\n\u001b[0;32m   2673\u001b[0m             \u001b[0mfetched\u001b[0m \u001b[1;33m=\u001b[0m \u001b[0mself\u001b[0m\u001b[1;33m.\u001b[0m\u001b[0m_callable_fn\u001b[0m\u001b[1;33m(\u001b[0m\u001b[1;33m*\u001b[0m\u001b[0marray_vals\u001b[0m\u001b[1;33m,\u001b[0m \u001b[0mrun_metadata\u001b[0m\u001b[1;33m=\u001b[0m\u001b[0mself\u001b[0m\u001b[1;33m.\u001b[0m\u001b[0mrun_metadata\u001b[0m\u001b[1;33m)\u001b[0m\u001b[1;33m\u001b[0m\u001b[0m\n\u001b[0;32m   2674\u001b[0m         \u001b[1;32melse\u001b[0m\u001b[1;33m:\u001b[0m\u001b[1;33m\u001b[0m\u001b[0m\n\u001b[1;32m-> 2675\u001b[1;33m             \u001b[0mfetched\u001b[0m \u001b[1;33m=\u001b[0m \u001b[0mself\u001b[0m\u001b[1;33m.\u001b[0m\u001b[0m_callable_fn\u001b[0m\u001b[1;33m(\u001b[0m\u001b[1;33m*\u001b[0m\u001b[0marray_vals\u001b[0m\u001b[1;33m)\u001b[0m\u001b[1;33m\u001b[0m\u001b[0m\n\u001b[0m\u001b[0;32m   2676\u001b[0m         \u001b[1;32mreturn\u001b[0m \u001b[0mfetched\u001b[0m\u001b[1;33m[\u001b[0m\u001b[1;33m:\u001b[0m\u001b[0mlen\u001b[0m\u001b[1;33m(\u001b[0m\u001b[0mself\u001b[0m\u001b[1;33m.\u001b[0m\u001b[0moutputs\u001b[0m\u001b[1;33m)\u001b[0m\u001b[1;33m]\u001b[0m\u001b[1;33m\u001b[0m\u001b[0m\n\u001b[0;32m   2677\u001b[0m \u001b[1;33m\u001b[0m\u001b[0m\n",
      "\u001b[1;32mC:\\ProgramData\\Anaconda3\\lib\\site-packages\\tensorflow\\python\\client\\session.py\u001b[0m in \u001b[0;36m__call__\u001b[1;34m(self, *args, **kwargs)\u001b[0m\n\u001b[0;32m   1437\u001b[0m           ret = tf_session.TF_SessionRunCallable(\n\u001b[0;32m   1438\u001b[0m               \u001b[0mself\u001b[0m\u001b[1;33m.\u001b[0m\u001b[0m_session\u001b[0m\u001b[1;33m.\u001b[0m\u001b[0m_session\u001b[0m\u001b[1;33m,\u001b[0m \u001b[0mself\u001b[0m\u001b[1;33m.\u001b[0m\u001b[0m_handle\u001b[0m\u001b[1;33m,\u001b[0m \u001b[0margs\u001b[0m\u001b[1;33m,\u001b[0m \u001b[0mstatus\u001b[0m\u001b[1;33m,\u001b[0m\u001b[1;33m\u001b[0m\u001b[0m\n\u001b[1;32m-> 1439\u001b[1;33m               run_metadata_ptr)\n\u001b[0m\u001b[0;32m   1440\u001b[0m         \u001b[1;32mif\u001b[0m \u001b[0mrun_metadata\u001b[0m\u001b[1;33m:\u001b[0m\u001b[1;33m\u001b[0m\u001b[0m\n\u001b[0;32m   1441\u001b[0m           \u001b[0mproto_data\u001b[0m \u001b[1;33m=\u001b[0m \u001b[0mtf_session\u001b[0m\u001b[1;33m.\u001b[0m\u001b[0mTF_GetBuffer\u001b[0m\u001b[1;33m(\u001b[0m\u001b[0mrun_metadata_ptr\u001b[0m\u001b[1;33m)\u001b[0m\u001b[1;33m\u001b[0m\u001b[0m\n",
      "\u001b[1;31mKeyboardInterrupt\u001b[0m: "
     ]
    }
   ],
   "source": [
    "classifier.fit(X_train,Y_train,batch_size=4,epochs=200)"
   ]
  },
  {
   "cell_type": "code",
   "execution_count": 52,
   "metadata": {},
   "outputs": [],
   "source": [
    "pre = classifier.predict(X_test)"
   ]
  },
  {
   "cell_type": "code",
   "execution_count": 53,
   "metadata": {},
   "outputs": [],
   "source": [
    "pre1 = (pre >0.5)"
   ]
  },
  {
   "cell_type": "code",
   "execution_count": 54,
   "metadata": {},
   "outputs": [],
   "source": [
    "from sklearn.metrics import confusion_matrix"
   ]
  },
  {
   "cell_type": "code",
   "execution_count": 55,
   "metadata": {},
   "outputs": [
    {
     "data": {
      "text/plain": [
       "array([[131, 192],\n",
       "       [ 83, 134]], dtype=int64)"
      ]
     },
     "execution_count": 55,
     "metadata": {},
     "output_type": "execute_result"
    }
   ],
   "source": [
    "confusion_matrix(Y_test,pre1)"
   ]
  },
  {
   "cell_type": "code",
   "execution_count": 56,
   "metadata": {
    "scrolled": true
   },
   "outputs": [
    {
     "data": {
      "text/plain": [
       "540"
      ]
     },
     "execution_count": 56,
     "metadata": {},
     "output_type": "execute_result"
    }
   ],
   "source": [
    "139+ 184+ 90 +127"
   ]
  },
  {
   "cell_type": "code",
   "execution_count": 57,
   "metadata": {},
   "outputs": [
    {
     "data": {
      "text/plain": [
       "0.49074074074074076"
      ]
     },
     "execution_count": 57,
     "metadata": {},
     "output_type": "execute_result"
    }
   ],
   "source": [
    "(131+134)/540"
   ]
  },
  {
   "cell_type": "code",
   "execution_count": null,
   "metadata": {},
   "outputs": [],
   "source": []
  },
  {
   "cell_type": "code",
   "execution_count": null,
   "metadata": {},
   "outputs": [],
   "source": []
  }
 ],
 "metadata": {
  "kernelspec": {
   "display_name": "Python 3",
   "language": "python",
   "name": "python3"
  },
  "language_info": {
   "codemirror_mode": {
    "name": "ipython",
    "version": 3
   },
   "file_extension": ".py",
   "mimetype": "text/x-python",
   "name": "python",
   "nbconvert_exporter": "python",
   "pygments_lexer": "ipython3",
   "version": "3.6.5"
  }
 },
 "nbformat": 4,
 "nbformat_minor": 2
}
