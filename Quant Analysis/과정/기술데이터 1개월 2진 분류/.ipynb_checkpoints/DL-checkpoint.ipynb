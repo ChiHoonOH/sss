{
 "cells": [
  {
   "cell_type": "code",
   "execution_count": 1,
   "metadata": {},
   "outputs": [],
   "source": [
    "import pandas as pd\n",
    "import numpy as np\n",
    "import seaborn as sns\n",
    "import matplotlib.pyplot as plt"
   ]
  },
  {
   "cell_type": "code",
   "execution_count": 2,
   "metadata": {},
   "outputs": [],
   "source": [
    "kospi_200_items = pd.read_excel('./non_out_data.xlsx')"
   ]
  },
  {
   "cell_type": "code",
   "execution_count": 8,
   "metadata": {},
   "outputs": [
    {
     "data": {
      "text/plain": [
       "Index(['변동성 (20일)', '거래량 (20일 평균)(주)', '외국인보유비중(보통+우선)(%)', '공매도거래량 (20일)(주)',\n",
       "       '순매수수량(개인)(20일합산)(주)', '순매수수량(기관계)(20일합산)(주)', '순매수수량(외국인계)(20일합산)(주)',\n",
       "       'PER(IFRS-연결)', 'PBR(IFRS-연결)', 'PSR(IFRS-연결)', '변동성 (20일)변화율',\n",
       "       '외국인보유비중(보통+우선)(%)변화율', 'PER(IFRS-연결)변화율', 'PBR(IFRS-연결)변화율',\n",
       "       'PSR(IFRS-연결)변화율', '수익률 (1개월)(%)', '1개월 수익률(4)', '1개월 수익률(2)', 'Name'],\n",
       "      dtype='object')"
      ]
     },
     "execution_count": 8,
     "metadata": {},
     "output_type": "execute_result"
    }
   ],
   "source": [
    "kospi_200_items.columns"
   ]
  },
  {
   "cell_type": "code",
   "execution_count": 15,
   "metadata": {},
   "outputs": [],
   "source": [
    "def data_sp(data):\n",
    "    com_name_set = list(set(data.Name))\n",
    "    \n",
    "    ## 18년도 3,6월 이전 이후로 나누기\n",
    "    train_set = pd.DataFrame()\n",
    "    test_set = pd.DataFrame()\n",
    "    for i in range(len(com_name_set)):\n",
    "        sub_set = data[ data.Name == com_name_set[i]]\n",
    "        train_set = train_set.append(sub_set[:-3])\n",
    "        test_set = test_set.append(sub_set[-3:])\n",
    "    return train_set , test_set"
   ]
  },
  {
   "cell_type": "code",
   "execution_count": 16,
   "metadata": {},
   "outputs": [],
   "source": [
    "train,test = data_sp(kospi_200_items)"
   ]
  },
  {
   "cell_type": "code",
   "execution_count": 131,
   "metadata": {},
   "outputs": [],
   "source": [
    "cols = ['변동성 (20일)', '거래량 (20일 평균)(주)', '외국인보유비중(보통+우선)(%)', '공매도거래량 (20일)(주)',\n",
    "       '순매수수량(개인)(20일합산)(주)', '순매수수량(기관계)(20일합산)(주)',\n",
    "       'PER(IFRS-연결)', 'PBR(IFRS-연결)', 'PSR(IFRS-연결)', '변동성 (20일)변화율','외국인보유비중(보통+우선)(%)변화율',\n",
    "        'PER(IFRS-연결)변화율', 'PBR(IFRS-연결)변화율','PSR(IFRS-연결)변화율']"
   ]
  },
  {
   "cell_type": "code",
   "execution_count": 132,
   "metadata": {},
   "outputs": [],
   "source": [
    "## train test를 X,Y 나누기\n",
    "X_train = train[cols]\n",
    "\n",
    "X_test = test[cols]\n",
    "\n",
    "Y_train = train['1개월 수익률(2)']\n",
    "Y_test = test['1개월 수익률(2)']"
   ]
  },
  {
   "cell_type": "code",
   "execution_count": 133,
   "metadata": {},
   "outputs": [],
   "source": [
    "import keras\n",
    "from keras.models import Sequential\n",
    "from keras.layers import Dense"
   ]
  },
  {
   "cell_type": "code",
   "execution_count": 155,
   "metadata": {},
   "outputs": [],
   "source": [
    "classifier = Sequential()"
   ]
  },
  {
   "cell_type": "code",
   "execution_count": 156,
   "metadata": {},
   "outputs": [],
   "source": [
    "classifier.add(Dense(units = 7,\n",
    "                    kernel_initializer = 'uniform',\n",
    "                    activation = 'relu',\n",
    "                    input_dim =14))"
   ]
  },
  {
   "cell_type": "code",
   "execution_count": 157,
   "metadata": {},
   "outputs": [],
   "source": [
    "classifier.add(Dense(units = 7,\n",
    "                    kernel_initializer = 'uniform',\n",
    "                    activation = 'relu'))"
   ]
  },
  {
   "cell_type": "code",
   "execution_count": 158,
   "metadata": {},
   "outputs": [],
   "source": [
    "classifier.add(Dense(units = 4,\n",
    "                    kernel_initializer = 'uniform',\n",
    "                    activation = 'relu'))"
   ]
  },
  {
   "cell_type": "code",
   "execution_count": 159,
   "metadata": {},
   "outputs": [],
   "source": [
    "classifier.add(Dense(units = 1,\n",
    "                    kernel_initializer = 'uniform',\n",
    "                    activation = 'sigmoid'))"
   ]
  },
  {
   "cell_type": "code",
   "execution_count": 160,
   "metadata": {},
   "outputs": [],
   "source": [
    "classifier.compile(optimizer='adam',loss = 'binary_crossentropy', metrics=['accuracy'])"
   ]
  },
  {
   "cell_type": "code",
   "execution_count": null,
   "metadata": {
    "scrolled": false
   },
   "outputs": [
    {
     "name": "stdout",
     "output_type": "stream",
     "text": [
      "Epoch 1/200\n",
      "8810/8810 [==============================] - 3s 334us/step - loss: 0.6894 - acc: 0.5343\n",
      "Epoch 2/200\n",
      "8810/8810 [==============================] - 2s 239us/step - loss: 0.6848 - acc: 0.5561\n",
      "Epoch 3/200\n",
      "8810/8810 [==============================] - 2s 245us/step - loss: 0.6834 - acc: 0.5565\n",
      "Epoch 4/200\n",
      "8810/8810 [==============================] - 3s 307us/step - loss: 0.6823 - acc: 0.5632\n",
      "Epoch 5/200\n",
      "8810/8810 [==============================] - 3s 326us/step - loss: 0.6818 - acc: 0.5588\n",
      "Epoch 6/200\n",
      "8810/8810 [==============================] - 3s 322us/step - loss: 0.6813 - acc: 0.5623\n",
      "Epoch 7/200\n",
      "8810/8810 [==============================] - 3s 329us/step - loss: 0.6803 - acc: 0.5635\n",
      "Epoch 8/200\n",
      "8810/8810 [==============================] - 3s 326us/step - loss: 0.6796 - acc: 0.5637\n",
      "Epoch 9/200\n",
      "8810/8810 [==============================] - 3s 347us/step - loss: 0.6790 - acc: 0.5664\n",
      "Epoch 10/200\n",
      "8810/8810 [==============================] - 3s 378us/step - loss: 0.6785 - acc: 0.5653\n",
      "Epoch 11/200\n",
      "8810/8810 [==============================] - 3s 325us/step - loss: 0.6777 - acc: 0.5672\n",
      "Epoch 12/200\n",
      "8810/8810 [==============================] - 3s 339us/step - loss: 0.6783 - acc: 0.5650\n",
      "Epoch 13/200\n",
      "8810/8810 [==============================] - 3s 342us/step - loss: 0.6775 - acc: 0.5666\n",
      "Epoch 14/200\n",
      "8810/8810 [==============================] - 4s 411us/step - loss: 0.6776 - acc: 0.5650\n",
      "Epoch 15/200\n",
      "8810/8810 [==============================] - 5s 529us/step - loss: 0.6768 - acc: 0.5690\n",
      "Epoch 16/200\n",
      "8810/8810 [==============================] - 4s 407us/step - loss: 0.6773 - acc: 0.5723\n",
      "Epoch 17/200\n",
      "8810/8810 [==============================] - 3s 337us/step - loss: 0.6763 - acc: 0.5671\n",
      "Epoch 18/200\n",
      "8810/8810 [==============================] - 3s 333us/step - loss: 0.6767 - acc: 0.5701\n",
      "Epoch 19/200\n",
      "8810/8810 [==============================] - 3s 338us/step - loss: 0.6761 - acc: 0.5733\n",
      "Epoch 20/200\n",
      "8810/8810 [==============================] - 3s 327us/step - loss: 0.6764 - acc: 0.5689\n",
      "Epoch 21/200\n",
      "8810/8810 [==============================] - 3s 347us/step - loss: 0.6760 - acc: 0.5748\n",
      "Epoch 22/200\n",
      "8810/8810 [==============================] - 3s 341us/step - loss: 0.6757 - acc: 0.5678\n",
      "Epoch 23/200\n",
      "8810/8810 [==============================] - 3s 342us/step - loss: 0.6762 - acc: 0.5705\n",
      "Epoch 24/200\n",
      "8810/8810 [==============================] - 3s 339us/step - loss: 0.6754 - acc: 0.5719\n",
      "Epoch 25/200\n",
      "8810/8810 [==============================] - 3s 372us/step - loss: 0.6753 - acc: 0.5715\n",
      "Epoch 26/200\n",
      "8810/8810 [==============================] - 3s 352us/step - loss: 0.6748 - acc: 0.5696\n",
      "Epoch 27/200\n",
      "8810/8810 [==============================] - 3s 368us/step - loss: 0.6755 - acc: 0.5725\n",
      "Epoch 28/200\n",
      "8810/8810 [==============================] - 3s 341us/step - loss: 0.6752 - acc: 0.5704\n",
      "Epoch 29/200\n",
      "8810/8810 [==============================] - 3s 341us/step - loss: 0.6747 - acc: 0.5719\n",
      "Epoch 30/200\n",
      "8810/8810 [==============================] - 3s 346us/step - loss: 0.6746 - acc: 0.5721\n",
      "Epoch 31/200\n",
      "8810/8810 [==============================] - 3s 349us/step - loss: 0.6745 - acc: 0.5695\n",
      "Epoch 32/200\n",
      "8810/8810 [==============================] - 3s 347us/step - loss: 0.6747 - acc: 0.5698\n",
      "Epoch 33/200\n",
      "8810/8810 [==============================] - 3s 347us/step - loss: 0.6746 - acc: 0.5721\n",
      "Epoch 34/200\n",
      "8810/8810 [==============================] - 4s 403us/step - loss: 0.6742 - acc: 0.5699\n",
      "Epoch 35/200\n",
      "8810/8810 [==============================] - 3s 351us/step - loss: 0.6745 - acc: 0.5716\n",
      "Epoch 36/200\n",
      "8810/8810 [==============================] - 3s 371us/step - loss: 0.6742 - acc: 0.5716\n",
      "Epoch 37/200\n",
      "8810/8810 [==============================] - 3s 341us/step - loss: 0.6741 - acc: 0.5713\n",
      "Epoch 38/200\n",
      "8810/8810 [==============================] - 3s 343us/step - loss: 0.6742 - acc: 0.5733\n",
      "Epoch 39/200\n",
      "8810/8810 [==============================] - 3s 350us/step - loss: 0.6741 - acc: 0.5754\n",
      "Epoch 40/200\n",
      "8810/8810 [==============================] - 3s 347us/step - loss: 0.6744 - acc: 0.5697\n",
      "Epoch 41/200\n",
      "8810/8810 [==============================] - 3s 352us/step - loss: 0.6743 - acc: 0.5694\n",
      "Epoch 42/200\n",
      "8810/8810 [==============================] - 3s 372us/step - loss: 0.6737 - acc: 0.5734\n",
      "Epoch 43/200\n",
      "8810/8810 [==============================] - 3s 349us/step - loss: 0.6738 - acc: 0.5725\n",
      "Epoch 44/200\n",
      "8810/8810 [==============================] - 3s 360us/step - loss: 0.6735 - acc: 0.5694\n",
      "Epoch 45/200\n",
      "8810/8810 [==============================] - 3s 358us/step - loss: 0.6734 - acc: 0.5721\n",
      "Epoch 46/200\n",
      "8810/8810 [==============================] - 3s 364us/step - loss: 0.6735 - acc: 0.5738\n",
      "Epoch 47/200\n",
      "8810/8810 [==============================] - 3s 352us/step - loss: 0.6731 - acc: 0.5778\n",
      "Epoch 48/200\n",
      "8810/8810 [==============================] - 3s 354us/step - loss: 0.6729 - acc: 0.5760\n",
      "Epoch 49/200\n",
      "8810/8810 [==============================] - 3s 367us/step - loss: 0.6734 - acc: 0.5759\n",
      "Epoch 50/200\n",
      "8810/8810 [==============================] - 3s 346us/step - loss: 0.6730 - acc: 0.5751\n",
      "Epoch 51/200\n",
      "8810/8810 [==============================] - 3s 343us/step - loss: 0.6725 - acc: 0.5738\n",
      "Epoch 52/200\n",
      "8810/8810 [==============================] - 3s 347us/step - loss: 0.6729 - acc: 0.5753\n",
      "Epoch 53/200\n",
      "8810/8810 [==============================] - 4s 494us/step - loss: 0.6722 - acc: 0.5784\n",
      "Epoch 54/200\n",
      "8810/8810 [==============================] - 4s 453us/step - loss: 0.6721 - acc: 0.5749\n",
      "Epoch 55/200\n",
      "8810/8810 [==============================] - 4s 400us/step - loss: 0.6721 - acc: 0.5733\n",
      "Epoch 56/200\n",
      "8810/8810 [==============================] - 3s 353us/step - loss: 0.6725 - acc: 0.5742\n",
      "Epoch 57/200\n",
      "8810/8810 [==============================] - 3s 350us/step - loss: 0.6722 - acc: 0.5778\n",
      "Epoch 58/200\n",
      "8810/8810 [==============================] - 3s 366us/step - loss: 0.6728 - acc: 0.5738\n",
      "Epoch 59/200\n",
      "8810/8810 [==============================] - 3s 369us/step - loss: 0.6719 - acc: 0.5736\n",
      "Epoch 60/200\n",
      "8810/8810 [==============================] - 3s 359us/step - loss: 0.6722 - acc: 0.5768\n",
      "Epoch 61/200\n",
      "8810/8810 [==============================] - 3s 359us/step - loss: 0.6720 - acc: 0.5764\n",
      "Epoch 62/200\n",
      "8810/8810 [==============================] - 3s 352us/step - loss: 0.6719 - acc: 0.5771\n",
      "Epoch 63/200\n",
      "8810/8810 [==============================] - 3s 349us/step - loss: 0.6718 - acc: 0.5764\n",
      "Epoch 64/200\n",
      "8810/8810 [==============================] - 4s 403us/step - loss: 0.6718 - acc: 0.5783\n",
      "Epoch 65/200\n",
      "8810/8810 [==============================] - 3s 371us/step - loss: 0.6714 - acc: 0.5760\n",
      "Epoch 66/200\n",
      "8810/8810 [==============================] - 3s 335us/step - loss: 0.6714 - acc: 0.5773\n",
      "Epoch 67/200\n",
      "8810/8810 [==============================] - 3s 333us/step - loss: 0.6717 - acc: 0.5726\n",
      "Epoch 68/200\n",
      "8810/8810 [==============================] - 3s 329us/step - loss: 0.6714 - acc: 0.5738\n",
      "Epoch 69/200\n",
      "6680/8810 [=====================>........] - ETA: 0s - loss: 0.6701 - acc: 0.5819"
     ]
    }
   ],
   "source": [
    "classifier.fit(X_train,Y_train,batch_size=4,epochs=200)"
   ]
  },
  {
   "cell_type": "code",
   "execution_count": 52,
   "metadata": {},
   "outputs": [],
   "source": [
    "pre = classifier.predict(X_test)"
   ]
  },
  {
   "cell_type": "code",
   "execution_count": 53,
   "metadata": {},
   "outputs": [],
   "source": [
    "pre1 = (pre >0.5)"
   ]
  },
  {
   "cell_type": "code",
   "execution_count": 54,
   "metadata": {},
   "outputs": [],
   "source": [
    "from sklearn.metrics import confusion_matrix"
   ]
  },
  {
   "cell_type": "code",
   "execution_count": 55,
   "metadata": {},
   "outputs": [
    {
     "data": {
      "text/plain": [
       "array([[131, 192],\n",
       "       [ 83, 134]], dtype=int64)"
      ]
     },
     "execution_count": 55,
     "metadata": {},
     "output_type": "execute_result"
    }
   ],
   "source": [
    "confusion_matrix(Y_test,pre1)"
   ]
  },
  {
   "cell_type": "code",
   "execution_count": 56,
   "metadata": {
    "scrolled": true
   },
   "outputs": [
    {
     "data": {
      "text/plain": [
       "540"
      ]
     },
     "execution_count": 56,
     "metadata": {},
     "output_type": "execute_result"
    }
   ],
   "source": [
    "139+ 184+ 90 +127"
   ]
  },
  {
   "cell_type": "code",
   "execution_count": 57,
   "metadata": {},
   "outputs": [
    {
     "data": {
      "text/plain": [
       "0.49074074074074076"
      ]
     },
     "execution_count": 57,
     "metadata": {},
     "output_type": "execute_result"
    }
   ],
   "source": [
    "(131+134)/540"
   ]
  },
  {
   "cell_type": "code",
   "execution_count": null,
   "metadata": {},
   "outputs": [],
   "source": []
  },
  {
   "cell_type": "code",
   "execution_count": null,
   "metadata": {},
   "outputs": [],
   "source": []
  }
 ],
 "metadata": {
  "kernelspec": {
   "display_name": "Python 3",
   "language": "python",
   "name": "python3"
  },
  "language_info": {
   "codemirror_mode": {
    "name": "ipython",
    "version": 3
   },
   "file_extension": ".py",
   "mimetype": "text/x-python",
   "name": "python",
   "nbconvert_exporter": "python",
   "pygments_lexer": "ipython3",
   "version": "3.6.5"
  }
 },
 "nbformat": 4,
 "nbformat_minor": 2
}
