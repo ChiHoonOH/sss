{
 "cells": [
  {
   "cell_type": "code",
   "execution_count": 1,
   "metadata": {},
   "outputs": [],
   "source": [
    "import pandas as pd\n",
    "import numpy as np\n",
    "import seaborn as sns\n",
    "import matplotlib.pyplot as plt"
   ]
  },
  {
   "cell_type": "code",
   "execution_count": 2,
   "metadata": {},
   "outputs": [],
   "source": [
    "kospi_200_items = pd.read_excel('./non_out_data.xlsx')"
   ]
  },
  {
   "cell_type": "code",
   "execution_count": 3,
   "metadata": {},
   "outputs": [
    {
     "data": {
      "text/plain": [
       "Index(['변동성 (20일)', '거래량 (20일 평균)(주)', '외국인보유비중(보통+우선)(%)', '공매도거래량 (20일)(주)',\n",
       "       '순매수수량(개인)(20일합산)(주)', '순매수수량(기관계)(20일합산)(주)', '순매수수량(외국인계)(20일합산)(주)',\n",
       "       'PER(IFRS-연결)', 'PBR(IFRS-연결)', 'PSR(IFRS-연결)', '변동성 (20일)변화율',\n",
       "       '외국인보유비중(보통+우선)(%)변화율', 'PER(IFRS-연결)변화율', 'PBR(IFRS-연결)변화율',\n",
       "       'PSR(IFRS-연결)변화율', '수익률 (1개월)(%)', '1개월 수익률(4)', '1개월 수익률(2)', 'Name'],\n",
       "      dtype='object')"
      ]
     },
     "execution_count": 3,
     "metadata": {},
     "output_type": "execute_result"
    }
   ],
   "source": [
    "kospi_200_items.columns"
   ]
  },
  {
   "cell_type": "code",
   "execution_count": 4,
   "metadata": {},
   "outputs": [],
   "source": [
    "def data_sp(data):\n",
    "    com_name_set = list(set(data.Name))\n",
    "    \n",
    "    ## 18년도 3,6월 이전 이후로 나누기\n",
    "    train_set = pd.DataFrame()\n",
    "    test_set = pd.DataFrame()\n",
    "    for i in range(len(com_name_set)):\n",
    "        sub_set = data[ data.Name == com_name_set[i]]\n",
    "        train_set = train_set.append(sub_set[:-3])\n",
    "        test_set = test_set.append(sub_set[-3:])\n",
    "    return train_set , test_set"
   ]
  },
  {
   "cell_type": "code",
   "execution_count": 5,
   "metadata": {},
   "outputs": [],
   "source": [
    "train,test = data_sp(kospi_200_items)"
   ]
  },
  {
   "cell_type": "code",
   "execution_count": 6,
   "metadata": {},
   "outputs": [],
   "source": [
    "cols = ['변동성 (20일)', '거래량 (20일 평균)(주)', '외국인보유비중(보통+우선)(%)', '공매도거래량 (20일)(주)',\n",
    "       '순매수수량(개인)(20일합산)(주)', '순매수수량(기관계)(20일합산)(주)',\n",
    "       'PER(IFRS-연결)', 'PBR(IFRS-연결)', 'PSR(IFRS-연결)', '변동성 (20일)변화율','외국인보유비중(보통+우선)(%)변화율',\n",
    "        'PER(IFRS-연결)변화율', 'PBR(IFRS-연결)변화율','PSR(IFRS-연결)변화율']"
   ]
  },
  {
   "cell_type": "code",
   "execution_count": 7,
   "metadata": {},
   "outputs": [],
   "source": [
    "## train test를 X,Y 나누기\n",
    "X_train = train[cols]\n",
    "\n",
    "X_test = test[cols]\n",
    "\n",
    "Y_train = train['1개월 수익률(2)']\n",
    "Y_test = test['1개월 수익률(2)']"
   ]
  },
  {
   "cell_type": "code",
   "execution_count": 8,
   "metadata": {},
   "outputs": [
    {
     "name": "stderr",
     "output_type": "stream",
     "text": [
      "C:\\ProgramData\\Anaconda3\\lib\\site-packages\\h5py\\__init__.py:36: FutureWarning: Conversion of the second argument of issubdtype from `float` to `np.floating` is deprecated. In future, it will be treated as `np.float64 == np.dtype(float).type`.\n",
      "  from ._conv import register_converters as _register_converters\n",
      "Using TensorFlow backend.\n"
     ]
    }
   ],
   "source": [
    "import keras\n",
    "from keras.models import Sequential\n",
    "from keras.layers import Dense"
   ]
  },
  {
   "cell_type": "code",
   "execution_count": 63,
   "metadata": {},
   "outputs": [],
   "source": [
    "classifier = Sequential()"
   ]
  },
  {
   "cell_type": "code",
   "execution_count": 64,
   "metadata": {},
   "outputs": [],
   "source": [
    "classifier.add(Dense(units = 6,\n",
    "                    kernel_initializer = 'uniform',\n",
    "                    activation = 'tanh',\n",
    "                    input_dim =14))"
   ]
  },
  {
   "cell_type": "code",
   "execution_count": 65,
   "metadata": {},
   "outputs": [],
   "source": [
    "classifier.add(Dense(units = 4,\n",
    "                    kernel_initializer = 'uniform',\n",
    "                    activation = 'relu',\n",
    "                    input_dim =14))"
   ]
  },
  {
   "cell_type": "code",
   "execution_count": 66,
   "metadata": {},
   "outputs": [],
   "source": [
    "classifier.add(Dense(units =8,\n",
    "                    kernel_initializer = 'uniform',\n",
    "                    activation = 'relu',\n",
    "                    input_dim =14))"
   ]
  },
  {
   "cell_type": "code",
   "execution_count": 67,
   "metadata": {},
   "outputs": [],
   "source": [
    "classifier.add(Dense(units =2,\n",
    "                    kernel_initializer = 'uniform',\n",
    "                    activation = 'relu',\n",
    "                    input_dim =14))"
   ]
  },
  {
   "cell_type": "code",
   "execution_count": 68,
   "metadata": {},
   "outputs": [],
   "source": [
    "classifier.add(Dense(units = 1,\n",
    "                    kernel_initializer = 'uniform',\n",
    "                    activation = 'sigmoid'))"
   ]
  },
  {
   "cell_type": "code",
   "execution_count": 69,
   "metadata": {},
   "outputs": [],
   "source": [
    "classifier.compile(optimizer='adam',loss = 'binary_crossentropy', metrics=['accuracy'])"
   ]
  },
  {
   "cell_type": "code",
   "execution_count": 70,
   "metadata": {
    "scrolled": false
   },
   "outputs": [
    {
     "name": "stdout",
     "output_type": "stream",
     "text": [
      "Epoch 1/20\n",
      "8810/8810 [==============================] - 3s 347us/step - loss: 0.6932 - acc: 0.5008\n",
      "Epoch 2/20\n",
      "8810/8810 [==============================] - 3s 368us/step - loss: 0.6932 - acc: 0.5005\n",
      "Epoch 3/20\n",
      "8810/8810 [==============================] - 3s 390us/step - loss: 0.6931 - acc: 0.5067\n",
      "Epoch 4/20\n",
      "8810/8810 [==============================] - 3s 375us/step - loss: 0.6933 - acc: 0.4964\n",
      "Epoch 5/20\n",
      "8810/8810 [==============================] - 3s 367us/step - loss: 0.6932 - acc: 0.5011\n",
      "Epoch 6/20\n",
      "8810/8810 [==============================] - 3s 366us/step - loss: 0.6932 - acc: 0.5018\n",
      "Epoch 7/20\n",
      "8810/8810 [==============================] - 3s 368us/step - loss: 0.6932 - acc: 0.5034\n",
      "Epoch 8/20\n",
      "8810/8810 [==============================] - 3s 371us/step - loss: 0.6933 - acc: 0.5041\n",
      "Epoch 9/20\n",
      "8810/8810 [==============================] - 3s 367us/step - loss: 0.6932 - acc: 0.5026\n",
      "Epoch 10/20\n",
      "8810/8810 [==============================] - 4s 398us/step - loss: 0.6932 - acc: 0.4955\n",
      "Epoch 11/20\n",
      "8810/8810 [==============================] - 4s 479us/step - loss: 0.6932 - acc: 0.4988\n",
      "Epoch 12/20\n",
      "8810/8810 [==============================] - 4s 470us/step - loss: 0.6932 - acc: 0.5056\n",
      "Epoch 13/20\n",
      "8810/8810 [==============================] - 3s 385us/step - loss: 0.6932 - acc: 0.5033\n",
      "Epoch 14/20\n",
      "8810/8810 [==============================] - 3s 374us/step - loss: 0.6932 - acc: 0.5026\n",
      "Epoch 15/20\n",
      "8810/8810 [==============================] - 3s 376us/step - loss: 0.6932 - acc: 0.4980\n",
      "Epoch 16/20\n",
      "8810/8810 [==============================] - 3s 377us/step - loss: 0.6932 - acc: 0.4988\n",
      "Epoch 17/20\n",
      "8810/8810 [==============================] - 3s 397us/step - loss: 0.6932 - acc: 0.5028\n",
      "Epoch 18/20\n",
      "8810/8810 [==============================] - 4s 408us/step - loss: 0.6932 - acc: 0.4966\n",
      "Epoch 19/20\n",
      "8810/8810 [==============================] - 3s 382us/step - loss: 0.6930 - acc: 0.5069\n",
      "Epoch 20/20\n",
      "8810/8810 [==============================] - 3s 389us/step - loss: 0.6933 - acc: 0.5041\n"
     ]
    },
    {
     "data": {
      "text/plain": [
       "<keras.callbacks.History at 0x1e8d5acfdd8>"
      ]
     },
     "execution_count": 70,
     "metadata": {},
     "output_type": "execute_result"
    }
   ],
   "source": [
    "classifier.fit(X_train,Y_train,batch_size=3,epochs=20)"
   ]
  },
  {
   "cell_type": "code",
   "execution_count": 71,
   "metadata": {},
   "outputs": [],
   "source": [
    "pre = classifier.predict(X_test)"
   ]
  },
  {
   "cell_type": "code",
   "execution_count": 72,
   "metadata": {},
   "outputs": [],
   "source": [
    "pre1 = (pre >0.5)"
   ]
  },
  {
   "cell_type": "code",
   "execution_count": 73,
   "metadata": {},
   "outputs": [],
   "source": [
    "from sklearn.metrics import confusion_matrix"
   ]
  },
  {
   "cell_type": "code",
   "execution_count": 74,
   "metadata": {},
   "outputs": [
    {
     "data": {
      "text/plain": [
       "array([[  0, 323],\n",
       "       [  0, 217]], dtype=int64)"
      ]
     },
     "execution_count": 74,
     "metadata": {},
     "output_type": "execute_result"
    }
   ],
   "source": [
    "confusion_matrix(Y_test,pre1)"
   ]
  },
  {
   "cell_type": "code",
   "execution_count": null,
   "metadata": {},
   "outputs": [],
   "source": []
  },
  {
   "cell_type": "code",
   "execution_count": null,
   "metadata": {},
   "outputs": [],
   "source": []
  }
 ],
 "metadata": {
  "kernelspec": {
   "display_name": "Python 3",
   "language": "python",
   "name": "python3"
  },
  "language_info": {
   "codemirror_mode": {
    "name": "ipython",
    "version": 3
   },
   "file_extension": ".py",
   "mimetype": "text/x-python",
   "name": "python",
   "nbconvert_exporter": "python",
   "pygments_lexer": "ipython3",
   "version": "3.6.5"
  }
 },
 "nbformat": 4,
 "nbformat_minor": 2
}
